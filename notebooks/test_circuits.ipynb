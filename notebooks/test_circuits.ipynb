{
 "cells": [
  {
   "cell_type": "code",
   "execution_count": 1,
   "metadata": {},
   "outputs": [],
   "source": [
    "from qaravan.core import *"
   ]
  },
  {
   "cell_type": "code",
   "execution_count": 3,
   "metadata": {},
   "outputs": [
    {
     "name": "stdout",
     "output_type": "stream",
     "text": [
      "H gate on site(s) [0] \n",
      "Idling on site(s) [0] with QubitNoise for time 1 \n",
      "Idling on site(s) [1] with QubitNoise for time 1; dynamical decoupling \n",
      "Idling on site(s) [2] with QubitNoise for time 1; dynamical decoupling \n",
      "\n",
      "bottom heavy CNOT2 gate on site(s) [0, 1] \n",
      "Idling on site(s) [0] with QubitNoise for time 10 \n",
      "Idling on site(s) [1] with QubitNoise for time 10 \n",
      "Idling on site(s) [2] with QubitNoise for time 10; dynamical decoupling \n",
      "\n",
      "bottom heavy CNOT2 gate on site(s) [1, 2] \n",
      "Idling on site(s) [0] with QubitNoise for time 10; dynamical decoupling \n",
      "Idling on site(s) [1] with QubitNoise for time 10 \n",
      "Idling on site(s) [2] with QubitNoise for time 10\n"
     ]
    }
   ],
   "source": [
    "# testing Circuit's add_noise() method\n",
    "\n",
    "n = 3\n",
    "gate_list = [H(0), CNOT([1,0], n), CNOT([2,1], n)]\n",
    "circ = Circuit(gate_list, n)\n",
    "\n",
    "t1 = 100\n",
    "t2 = 75\n",
    "one_qubit_time = 1\n",
    "two_qubit_time = 10\n",
    "\n",
    "nm = QubitNoise(t1, t2, one_qubit_time, two_qubit_time, coupling=0.5)\n",
    "circ = circ.build(nm=nm)\n",
    "print(circ)"
   ]
  },
  {
   "cell_type": "code",
   "execution_count": 7,
   "metadata": {},
   "outputs": [
    {
     "name": "stdout",
     "output_type": "stream",
     "text": [
      "bottom heavy CNOT2 gate on site(s) [0, 1]\n",
      "\n",
      "bottom heavy CNOT2 gate on site(s) [0, 1] \n",
      "bottom heavy CNOT2 gate on site(s) [1, 2]\n"
     ]
    }
   ],
   "source": [
    "# testing Circuit indexing and slicing\n",
    "\n",
    "n = 3\n",
    "gate_list = [H(0), CNOT([1,0], n), CNOT([2,1], n)]\n",
    "circ = Circuit(gate_list, n)\n",
    "\n",
    "print(circ[1])\n",
    "print(\"\")\n",
    "print(circ[1:3])    "
   ]
  },
  {
   "cell_type": "code",
   "execution_count": 2,
   "metadata": {},
   "outputs": [
    {
     "name": "stdout",
     "output_type": "stream",
     "text": [
      "rand_U gate on site(s) (0, 1) \n",
      "rand_U gate on site(s) (2, 3) \n",
      "rand_U gate on site(s) (1, 2)\n",
      "[[-0.56166046+0.j         -0.36715187+0.j         -0.60521705+0.j\n",
      "  -0.42830988+0.j        ]\n",
      " [-0.30458462+0.07956945j  0.73924601+0.09749006j  0.14018696-0.29409351j\n",
      "  -0.43236442+0.22765231j]\n",
      " [ 0.16519679-0.41794318j -0.02069827-0.41435173j  0.22816427+0.5257327j\n",
      "  -0.52129081+0.16037402j]\n",
      " [ 0.60897163+0.11234546j -0.30033238+0.21655305j -0.06941468-0.44079104j\n",
      "  -0.44303612+0.2898985j ]]\n"
     ]
    }
   ],
   "source": [
    "# testing random circuits \n",
    "circ = two_local_circ([(0,1), (2,3), (1,2)])\n",
    "print(circ)\n",
    "print(circ[0].matrix)"
   ]
  },
  {
   "cell_type": "code",
   "execution_count": 4,
   "metadata": {},
   "outputs": [
    {
     "name": "stdout",
     "output_type": "stream",
     "text": [
      "rand_U gate on site(s) (0, 1) \n",
      "rand_U gate on site(s) (2, 3) \n",
      "rand_U gate on site(s) (1, 2)\n",
      "[[ 9.99938139e-01+4.25819627e-03j -6.40567411e-03-6.18102866e-05j\n",
      "  -6.91286314e-03-5.63060053e-05j -2.38024508e-05+4.09361249e-03j]\n",
      " [ 6.40576753e-03+4.52174728e-05j  9.99882036e-01+1.06960323e-02j\n",
      "  -1.02573371e-04+5.71629634e-03j -6.91156654e-03-1.30921509e-04j]\n",
      " [ 6.91263307e-03+9.85383518e-05j -1.42238015e-04+5.71499672e-03j\n",
      "   9.99800882e-01+1.66338202e-02j -6.40205109e-03-2.22800925e-04j]\n",
      " [-6.92355188e-05+4.09275661e-03j  6.90928805e-03+2.30647279e-04j\n",
      "   6.40398701e-03+1.51859513e-04j  9.99143004e-01+4.00958488e-02j]]\n"
     ]
    }
   ],
   "source": [
    "circ = two_local_circ([(0,1), (2,3), (1,2)], mag=1e-2)\n",
    "print(circ)\n",
    "print(circ[0].matrix)"
   ]
  }
 ],
 "metadata": {
  "kernelspec": {
   "display_name": "qaravan",
   "language": "python",
   "name": "python3"
  },
  "language_info": {
   "codemirror_mode": {
    "name": "ipython",
    "version": 3
   },
   "file_extension": ".py",
   "mimetype": "text/x-python",
   "name": "python",
   "nbconvert_exporter": "python",
   "pygments_lexer": "ipython3",
   "version": "3.11.0"
  }
 },
 "nbformat": 4,
 "nbformat_minor": 2
}
