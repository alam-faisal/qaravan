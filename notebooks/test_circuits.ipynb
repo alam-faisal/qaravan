{
 "cells": [
  {
   "cell_type": "code",
   "execution_count": 1,
   "metadata": {},
   "outputs": [],
   "source": [
    "from qaravan.core import *"
   ]
  },
  {
   "cell_type": "code",
   "execution_count": 3,
   "metadata": {},
   "outputs": [
    {
     "name": "stdout",
     "output_type": "stream",
     "text": [
      "H gate on site(s) [0] \n",
      "Idling on site(s) [0] with QubitNoise for time 1 \n",
      "Idling on site(s) [1] with QubitNoise for time 1; dynamical decoupling \n",
      "Idling on site(s) [2] with QubitNoise for time 1; dynamical decoupling \n",
      "\n",
      "bottom heavy CNOT2 gate on site(s) [0, 1] \n",
      "Idling on site(s) [0] with QubitNoise for time 10 \n",
      "Idling on site(s) [1] with QubitNoise for time 10 \n",
      "Idling on site(s) [2] with QubitNoise for time 10; dynamical decoupling \n",
      "\n",
      "bottom heavy CNOT2 gate on site(s) [1, 2] \n",
      "Idling on site(s) [0] with QubitNoise for time 10; dynamical decoupling \n",
      "Idling on site(s) [1] with QubitNoise for time 10 \n",
      "Idling on site(s) [2] with QubitNoise for time 10\n"
     ]
    }
   ],
   "source": [
    "# testing Circuit's add_noise() method\n",
    "\n",
    "n = 3\n",
    "gate_list = [H(0), CNOT([1,0], n), CNOT([2,1], n)]\n",
    "circ = Circuit(gate_list, n)\n",
    "\n",
    "t1 = 100\n",
    "t2 = 75\n",
    "one_qubit_time = 1\n",
    "two_qubit_time = 10\n",
    "\n",
    "nm = QubitNoise(t1, t2, one_qubit_time, two_qubit_time, coupling=0.5)\n",
    "circ = circ.build(nm=nm)\n",
    "print(circ)"
   ]
  },
  {
   "cell_type": "code",
   "execution_count": 7,
   "metadata": {},
   "outputs": [
    {
     "name": "stdout",
     "output_type": "stream",
     "text": [
      "bottom heavy CNOT2 gate on site(s) [0, 1]\n",
      "\n",
      "bottom heavy CNOT2 gate on site(s) [0, 1] \n",
      "bottom heavy CNOT2 gate on site(s) [1, 2]\n"
     ]
    }
   ],
   "source": [
    "# testing Circuit indexing and slicing\n",
    "\n",
    "n = 3\n",
    "gate_list = [H(0), CNOT([1,0], n), CNOT([2,1], n)]\n",
    "circ = Circuit(gate_list, n)\n",
    "\n",
    "print(circ[1])\n",
    "print(\"\")\n",
    "print(circ[1:3])    "
   ]
  },
  {
   "cell_type": "code",
   "execution_count": 2,
   "metadata": {},
   "outputs": [
    {
     "name": "stdout",
     "output_type": "stream",
     "text": [
      "rand_U gate on site(s) (0, 1) \n",
      "rand_U gate on site(s) (2, 3) \n",
      "rand_U gate on site(s) (1, 2)\n",
      "[[ 0.28218411+0.j          0.53356318+0.j         -0.39177279+0.j\n",
      "  -0.69440373+0.j        ]\n",
      " [ 0.29563245-0.0278968j  -0.22161479+0.09044979j  0.75563275-0.17742903j\n",
      "  -0.476465  +0.15826601j]\n",
      " [-0.40098954+0.23745129j -0.5340966 -0.39283799j -0.27246149-0.30288762j\n",
      "  -0.41961779-0.03446955j]\n",
      " [-0.63035297-0.46655627j -0.02281904+0.46681311j  0.04157327+0.27631079j\n",
      "  -0.29714453+0.01320337j]]\n"
     ]
    }
   ],
   "source": [
    "# testing random circuits \n",
    "circ = two_local_circ([(0,1), (2,3), (1,2)])\n",
    "print(circ)\n",
    "print(circ[0].matrix)"
   ]
  },
  {
   "cell_type": "code",
   "execution_count": 3,
   "metadata": {},
   "outputs": [
    {
     "name": "stdout",
     "output_type": "stream",
     "text": [
      "rand_U gate on site(s) (0, 1) \n",
      "rand_U gate on site(s) (2, 3) \n",
      "rand_U gate on site(s) (1, 2) \n",
      "rand_U gate on site(s) (0, 1) \n",
      "rand_U gate on site(s) (2, 3) \n",
      "rand_U gate on site(s) (1, 2)\n",
      "[[1.+0.j 0.+0.j 0.+0.j 0.+0.j]\n",
      " [0.+0.j 1.+0.j 0.+0.j 0.+0.j]\n",
      " [0.+0.j 0.+0.j 1.+0.j 0.+0.j]\n",
      " [0.+0.j 0.+0.j 0.+0.j 1.+0.j]]\n"
     ]
    }
   ],
   "source": [
    "circ2 = two_local_circ([(0,1), (2,3), (1,2)], mag=0.0)\n",
    "circ3 = circ + circ2\n",
    "print(circ3)\n",
    "print(circ3[4].matrix)"
   ]
  }
 ],
 "metadata": {
  "kernelspec": {
   "display_name": "qaravan",
   "language": "python",
   "name": "python3"
  },
  "language_info": {
   "codemirror_mode": {
    "name": "ipython",
    "version": 3
   },
   "file_extension": ".py",
   "mimetype": "text/x-python",
   "name": "python",
   "nbconvert_exporter": "python",
   "pygments_lexer": "ipython3",
   "version": "3.11.0"
  }
 },
 "nbformat": 4,
 "nbformat_minor": 2
}
