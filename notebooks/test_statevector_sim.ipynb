{
 "cells": [
  {
   "cell_type": "code",
   "execution_count": 1,
   "metadata": {},
   "outputs": [],
   "source": [
    "from qaravan.tensorQ import *\n",
    "from qaravan.core import *"
   ]
  },
  {
   "cell_type": "code",
   "execution_count": 2,
   "metadata": {},
   "outputs": [
    {
     "name": "stdout",
     "output_type": "stream",
     "text": [
      "H gate on site(s) [0] \n",
      "bottom heavy CNOT2 gate on site(s) [0, 1] \n",
      "bottom heavy CNOT2 gate on site(s) [1, 2]\n"
     ]
    },
    {
     "name": "stderr",
     "output_type": "stream",
     "text": [
      "100%|██████████| 3/3 [00:00<00:00, 1498.14it/s]"
     ]
    },
    {
     "name": "stdout",
     "output_type": "stream",
     "text": [
      "0.7071|000⟩ + 0.7071|111⟩\n"
     ]
    },
    {
     "name": "stderr",
     "output_type": "stream",
     "text": [
      "\n"
     ]
    }
   ],
   "source": [
    "# testing if we can prepare GHZ state\n",
    "gate_list = [H(0), CNOT([1,0], 3), CNOT([2,1], 3)]\n",
    "circ = Circuit(gate_list, 3)\n",
    "print(circ)\n",
    "\n",
    "sv = StatevectorSim(circ)\n",
    "final_state = sv.run()\n",
    "print(sv)"
   ]
  },
  {
   "cell_type": "code",
   "execution_count": 3,
   "metadata": {},
   "outputs": [
    {
     "data": {
      "text/plain": [
       "array(0.)"
      ]
     },
     "execution_count": 3,
     "metadata": {},
     "output_type": "execute_result"
    }
   ],
   "source": [
    "# testing local expectations\n",
    "local_ops = [pauli_Z, pauli_Z, pauli_Z]\n",
    "sv.local_expectation(local_ops) # should be zero"
   ]
  },
  {
   "cell_type": "code",
   "execution_count": 4,
   "metadata": {},
   "outputs": [
    {
     "data": {
      "text/plain": [
       "array(1.)"
      ]
     },
     "execution_count": 4,
     "metadata": {},
     "output_type": "execute_result"
    }
   ],
   "source": [
    "# testing local expectations again\n",
    "local_ops = [pauli_X, pauli_X, pauli_X]\n",
    "sv.local_expectation(local_ops) # should be 1"
   ]
  },
  {
   "cell_type": "code",
   "execution_count": 5,
   "metadata": {},
   "outputs": [
    {
     "name": "stdout",
     "output_type": "stream",
     "text": [
      "True\n",
      "True\n"
     ]
    }
   ],
   "source": [
    "# testing environments \n",
    "n = 4\n",
    "sv = random_sv(n)\n",
    "\n",
    "gate_list = [H(0), CNOT([1,0], n)]#, CNOT([2,1], n), CNOT([3,2], n)]\n",
    "circ = Circuit(gate_list, n)\n",
    "sim = StatevectorSim(circ)\n",
    "final_state = sim.run(progress_bar=False).reshape(2**n)\n",
    "overlap_a = sv.conj().T @ final_state\n",
    "\n",
    "for gate_idx in range(len(circ)):\n",
    "    env, mat = sv_environment(circ, sv, gate_idx)\n",
    "    overlap_b = np.trace(env @ mat)\n",
    "    print(np.allclose(overlap_a, overlap_b))"
   ]
  },
  {
   "cell_type": "code",
   "execution_count": 6,
   "metadata": {},
   "outputs": [],
   "source": [
    "# testing environments from cached states \n",
    "\n",
    "def test_fast_environment():\n",
    "    target_sv = random_sv(4)\n",
    "    circ = two_local_circ([(0,1), (2,3), (1,2), (0,1), (2,3), (1,2)])\n",
    "\n",
    "    for gate_idx in range(len(circ)):\n",
    "        env_slow, _ = sv_environment(circ, target_sv, gate_idx)\n",
    "        pre_states, post_states = cache_states(circ, target_sv)\n",
    "        env_fast = partial_overlap(pre_states[gate_idx], post_states[gate_idx], skip=circ[gate_idx].indices)\n",
    "\n",
    "        assert np.allclose(env_fast, env_slow), f\"Mismatch in env at gate {gate_idx}\"\n",
    "\n",
    "test_fast_environment()"
   ]
  },
  {
   "cell_type": "code",
   "execution_count": 7,
   "metadata": {},
   "outputs": [],
   "source": [
    "# testing environment_update()\n",
    "\n",
    "def test_environment_update():\n",
    "    target_sv = random_sv(4)\n",
    "    circ = two_local_circ([(0,1), (2,3), (1,2), (0,1), (2,3), (1,2)])\n",
    "    pre_states, post_states = cache_states(circ, target_sv)\n",
    "\n",
    "    simple_costs, update_costs, cache_costs = [], [], []\n",
    "    for idx in range(len(circ)-1):\n",
    "        update_costs.append(environment_update(circ, idx, pre_states, post_states, direction='right'))\n",
    "\n",
    "        sim = StatevectorSim(circ)\n",
    "        ansatz = sim.run(progress_bar=False).reshape(2**n)\n",
    "        simple_costs.append(1 - np.abs(target_sv.conj().T @ ansatz))\n",
    "\n",
    "        pre_state = pre_states[idx+1]\n",
    "        post_state = post_states[idx+1]\n",
    "        env = partial_overlap(pre_state, post_state, skip=circ[idx+1].indices)\n",
    "        cache_costs.append(1 - np.abs(np.trace(env @ circ[idx+1].matrix)))\n",
    "\n",
    "    for idx in reversed(range(1, len(circ))):\n",
    "        update_costs.append(environment_update(circ, idx, pre_states, post_states, direction='left'))\n",
    "    \n",
    "        sim = StatevectorSim(circ)\n",
    "        ansatz = sim.run(progress_bar=False).reshape(2**n)\n",
    "        simple_costs.append(1 - np.abs(target_sv.conj().T @ ansatz))\n",
    "\n",
    "        pre_state = pre_states[idx-1]\n",
    "        post_state = post_states[idx-1]\n",
    "        env = partial_overlap(pre_state, post_state, skip=circ[idx-1].indices)\n",
    "        cache_costs.append(1 - np.abs(np.trace(env @ circ[idx-1].matrix)))\n",
    "\n",
    "    assert np.allclose(simple_costs, update_costs), \"Mismatch in update costs\"\n",
    "    assert np.allclose(simple_costs, cache_costs), \"Mismatch in cache costs\"\n",
    "\n",
    "test_environment_update()"
   ]
  },
  {
   "cell_type": "code",
   "execution_count": 8,
   "metadata": {},
   "outputs": [
    {
     "name": "stdout",
     "output_type": "stream",
     "text": [
      "Step 0 at time 2025-04-16T11:55:29: cost = 0.0029558548394018613\n",
      "[Checkpoint saved at step 0]\n",
      "Step 15 at time 2025-04-16T11:55:30: cost = 1.0152272896357672e-05\n",
      "Step 30 at time 2025-04-16T11:55:30: cost = 2.4790932495744045e-07\n",
      "[Checkpoint saved at step 40]\n",
      "Step 45 at time 2025-04-16T11:55:30: cost = 5.382723933244904e-09\n",
      "Max iterations reached with cost 1.9308893373093383e-09\n"
     ]
    },
    {
     "data": {
      "text/plain": [
       "(40,\n",
       " [np.float64(0.7815720512402541),\n",
       "  np.float64(0.00011374839190969599),\n",
       "  np.float64(3.968873941528894e-05),\n",
       "  np.float64(1.2840492270349557e-05),\n",
       "  np.float64(3.8790906119468005e-06),\n",
       "  np.float64(1.1253452445458834e-06),\n",
       "  np.float64(3.194254728500212e-07),\n",
       "  np.float64(8.963953890273046e-08),\n",
       "  np.float64(2.500649320946735e-08)])"
      ]
     },
     "execution_count": 8,
     "metadata": {},
     "output_type": "execute_result"
    }
   ],
   "source": [
    "# testing environment based state prep\n",
    "skeleton = [(0,1), (2,3), (1,2), (0,1), (2,3)]\n",
    "target_sv = random_sv(4)\n",
    "\n",
    "context = RunContext(\n",
    "    progress_interval=15,\n",
    "    max_iter=50,\n",
    "    stop_ratio=1e-8,\n",
    "    checkpoint_file=\"test.pickle\", \n",
    "    checkpoint_interval=40,\n",
    "    )\n",
    "    \n",
    "circ, cost_list = environment_state_prep(target_sv, skeleton=skeleton, context=context)\n",
    "\n",
    "with open('test.pickle', 'rb') as f: \n",
    "    opt_state = pickle.load(f)\n",
    "\n",
    "opt_state['step'], opt_state['cost_list'][::40]"
   ]
  },
  {
   "cell_type": "code",
   "execution_count": 9,
   "metadata": {},
   "outputs": [
    {
     "name": "stdout",
     "output_type": "stream",
     "text": [
      "[Resuming from checkpoint: step 40]\n",
      "[Checkpoint saved at step 40]\n",
      "Step 45 at time 2025-04-16T11:55:30: cost = 4.1660095373430295e-09\n",
      "Step 60 at time 2025-04-16T11:55:30: cost = 8.890665981198254e-11\n",
      "Step 75 at time 2025-04-16T11:55:30: cost = 1.892930256985892e-12\n",
      "[Checkpoint saved at step 80]\n",
      "Step 90 at time 2025-04-16T11:55:30: cost = 4.107825191113079e-14\n",
      "Max iterations reached with cost 4.218847493575595e-15\n"
     ]
    },
    {
     "data": {
      "text/plain": [
       "(80,\n",
       " [np.float64(0.7815720512402541),\n",
       "  np.float64(0.00011374839190969599),\n",
       "  np.float64(3.968873941528894e-05),\n",
       "  np.float64(1.2840492270349557e-05),\n",
       "  np.float64(3.8790906119468005e-06),\n",
       "  np.float64(1.1253452445458834e-06),\n",
       "  np.float64(3.194254728500212e-07),\n",
       "  np.float64(8.963953890273046e-08),\n",
       "  np.float64(2.500649320946735e-08),\n",
       "  np.float64(6.9543973912900015e-09),\n",
       "  np.float64(1.9308893373093383e-09),\n",
       "  np.float64(5.356476373563623e-10),\n",
       "  np.float64(1.485251921451436e-10),\n",
       "  np.float64(4.117306495743378e-11),\n",
       "  np.float64(1.1411982470121984e-11),\n",
       "  np.float64(3.1624702856447584e-12),\n",
       "  np.float64(8.772982340587987e-13)])"
      ]
     },
     "execution_count": 9,
     "metadata": {},
     "output_type": "execute_result"
    }
   ],
   "source": [
    "# resuming from previous run\n",
    "context = RunContext(\n",
    "    progress_interval=15,\n",
    "    max_iter=100,\n",
    "    stop_ratio=1e-8,\n",
    "    checkpoint_file=\"test.pickle\", \n",
    "    checkpoint_interval=40,\n",
    "    resume=True\n",
    "    )\n",
    "    \n",
    "circ, cost_list = environment_state_prep(target_sv, skeleton=skeleton, context=context)\n",
    "\n",
    "with open('test.pickle', 'rb') as f: \n",
    "    opt_state = pickle.load(f)\n",
    "\n",
    "opt_state['step'], opt_state['cost_list'][::40]"
   ]
  },
  {
   "cell_type": "code",
   "execution_count": 10,
   "metadata": {},
   "outputs": [
    {
     "name": "stdout",
     "output_type": "stream",
     "text": [
      "Step 0 at time 2025-04-16T11:55:34: cost = 0.05625031463862151\n",
      "[Checkpoint saved at step 0]\n",
      "Step 15 at time 2025-04-16T11:55:34: cost = 0.0002009947594969752\n",
      "Step 30 at time 2025-04-16T11:55:34: cost = 0.00016107182892766136\n",
      "[Checkpoint saved at step 40]\n",
      "Step 45 at time 2025-04-16T11:55:34: cost = 0.00013952555461294036\n",
      "Max iterations reached with cost 0.0001353476407063292\n"
     ]
    },
    {
     "data": {
      "text/plain": [
       "(40, [np.float64(0.18975155803426774), np.float64(0.0001468346715296498)])"
      ]
     },
     "execution_count": 10,
     "metadata": {},
     "output_type": "execute_result"
    }
   ],
   "source": [
    "# testing environment based state prep\n",
    "skeleton = [(0,1), (2,3), (1,2), (0,1), (2,3)]\n",
    "target_sv = random_sv(4)\n",
    "\n",
    "context = RunContext(\n",
    "    progress_interval=15,\n",
    "    max_iter=50,\n",
    "    stop_ratio=1e-8,\n",
    "    checkpoint_file=\"test.pickle\", \n",
    "    checkpoint_interval=40,\n",
    "    )\n",
    "    \n",
    "circ, cost_list = environment_state_prep_simple(target_sv, skeleton=skeleton, context=context)\n",
    "\n",
    "with open('test.pickle', 'rb') as f: \n",
    "    opt_state = pickle.load(f)\n",
    "\n",
    "opt_state['step'], opt_state['cost_list'][::40]"
   ]
  },
  {
   "cell_type": "code",
   "execution_count": 11,
   "metadata": {},
   "outputs": [
    {
     "name": "stdout",
     "output_type": "stream",
     "text": [
      "[Resuming from checkpoint: step 40]\n",
      "[Checkpoint saved at step 40]\n",
      "Step 45 at time 2025-04-16T11:56:07: cost = 0.0001384347842899869\n",
      "Step 60 at time 2025-04-16T11:56:08: cost = 0.00012518828178464947\n",
      "Step 75 at time 2025-04-16T11:56:08: cost = 0.0001157048444282438\n",
      "[Checkpoint saved at step 80]\n",
      "Step 90 at time 2025-04-16T11:56:08: cost = 0.00010815608304137747\n",
      "Max iterations reached with cost 0.00010410790523807112\n"
     ]
    },
    {
     "data": {
      "text/plain": [
       "(80,\n",
       " [np.float64(0.18975155803426774),\n",
       "  np.float64(0.0001468346715296498),\n",
       "  np.float64(0.00011408096419907032)])"
      ]
     },
     "execution_count": 11,
     "metadata": {},
     "output_type": "execute_result"
    }
   ],
   "source": [
    "# resuming from previous run\n",
    "context = RunContext(\n",
    "    progress_interval=15,\n",
    "    max_iter=100,\n",
    "    stop_ratio=1e-8,\n",
    "    checkpoint_file=\"test.pickle\", \n",
    "    checkpoint_interval=40,\n",
    "    resume=True\n",
    "    )\n",
    "    \n",
    "circ, cost_list = environment_state_prep_simple(target_sv, skeleton=skeleton, context=context)\n",
    "\n",
    "with open('test.pickle', 'rb') as f: \n",
    "    opt_state = pickle.load(f)\n",
    "\n",
    "opt_state['step'], opt_state['cost_list'][::40]"
   ]
  },
  {
   "cell_type": "code",
   "execution_count": null,
   "metadata": {},
   "outputs": [],
   "source": []
  }
 ],
 "metadata": {
  "kernelspec": {
   "display_name": "qaravan",
   "language": "python",
   "name": "python3"
  },
  "language_info": {
   "codemirror_mode": {
    "name": "ipython",
    "version": 3
   },
   "file_extension": ".py",
   "mimetype": "text/x-python",
   "name": "python",
   "nbconvert_exporter": "python",
   "pygments_lexer": "ipython3",
   "version": "3.11.0"
  }
 },
 "nbformat": 4,
 "nbformat_minor": 2
}
