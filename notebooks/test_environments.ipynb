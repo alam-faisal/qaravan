{
 "cells": [
  {
   "cell_type": "code",
   "execution_count": 1,
   "id": "971f557d",
   "metadata": {},
   "outputs": [],
   "source": [
    "from qaravan.tensorQ import *\n",
    "from qaravan.core import *"
   ]
  },
  {
   "cell_type": "code",
   "execution_count": 3,
   "id": "85f92f49",
   "metadata": {},
   "outputs": [
    {
     "name": "stdout",
     "output_type": "stream",
     "text": [
      "True\n",
      "True\n",
      "True\n",
      "True\n"
     ]
    }
   ],
   "source": [
    "# testing environments \n",
    "n = 4\n",
    "sv = random_sv(n)\n",
    "\n",
    "gate_list = [H(0), CNOT([1,0], n), CNOT([2,1], n), CNOT([3,2], n)]\n",
    "circ = Circuit(gate_list, n)\n",
    "sim = StatevectorSim(circ)\n",
    "final_state = sim.run(progress_bar=False).reshape(2**n)\n",
    "overlap_a = sv.conj().T @ final_state\n",
    "\n",
    "for gate_idx in range(len(circ)):\n",
    "    env, mat = sv_environment(circ, sv, gate_idx)\n",
    "    overlap_b = np.trace(env @ mat)\n",
    "    print(np.allclose(overlap_a, overlap_b))"
   ]
  },
  {
   "cell_type": "code",
   "execution_count": 4,
   "id": "7ab4cd51",
   "metadata": {},
   "outputs": [
    {
     "name": "stderr",
     "output_type": "stream",
     "text": [
      "Pre states: 100%|██████████| 6/6 [00:00<00:00, 3004.87it/s]\n",
      "Post states: 6it [00:00, 6084.58it/s]\n",
      "Pre states: 100%|██████████| 6/6 [00:00<00:00, 835.88it/s]\n",
      "Post states: 6it [00:00, 2992.72it/s]\n",
      "Pre states: 100%|██████████| 6/6 [00:00<00:00, 3024.37it/s]\n",
      "Post states: 6it [00:00, 6141.00it/s]\n",
      "Pre states: 100%|██████████| 6/6 [00:00<00:00, 5929.74it/s]\n",
      "Post states: 6it [00:00, 3003.80it/s]\n",
      "Pre states: 100%|██████████| 6/6 [00:00<00:00, 5557.82it/s]\n",
      "Post states: 6it [00:00, ?it/s]\n",
      "Pre states: 100%|██████████| 6/6 [00:00<00:00, 3007.75it/s]\n",
      "Post states: 6it [00:00, 5996.15it/s]\n"
     ]
    }
   ],
   "source": [
    "# testing environments from cached states \n",
    "\n",
    "def test_fast_environment():\n",
    "    target_sv = random_sv(4)\n",
    "    circ = two_local_circ([(0,1), (2,3), (1,2), (0,1), (2,3), (1,2)])\n",
    "\n",
    "    for gate_idx in range(len(circ)):\n",
    "        env_slow, _ = sv_environment(circ, target_sv, gate_idx)\n",
    "        pre_states, post_states = cache_states(circ, target_sv)\n",
    "        env_fast = partial_overlap(pre_states[gate_idx], post_states[gate_idx], skip=circ[gate_idx].indices)\n",
    "\n",
    "        assert np.allclose(env_fast, env_slow), f\"Mismatch in env at gate {gate_idx}\"\n",
    "\n",
    "test_fast_environment()"
   ]
  },
  {
   "cell_type": "code",
   "execution_count": 5,
   "id": "0cad20ad",
   "metadata": {},
   "outputs": [
    {
     "name": "stderr",
     "output_type": "stream",
     "text": [
      "Pre states: 100%|██████████| 6/6 [00:00<00:00, 3551.99it/s]\n",
      "Post states: 6it [00:00, ?it/s]\n"
     ]
    }
   ],
   "source": [
    "# testing environment_update()\n",
    "\n",
    "def test_environment_update():\n",
    "    target_sv = random_sv(4)\n",
    "    circ = two_local_circ([(0,1), (2,3), (1,2), (0,1), (2,3), (1,2)])\n",
    "    pre_states, post_states = cache_states(circ, target_sv)\n",
    "\n",
    "    simple_costs, update_costs, cache_costs = [], [], []\n",
    "    for idx in range(len(circ)-1):\n",
    "        update_costs.append(environment_update(circ, idx, pre_states, post_states, direction='right'))\n",
    "\n",
    "        sim = StatevectorSim(circ)\n",
    "        ansatz = sim.run(progress_bar=False).reshape(2**n)\n",
    "        simple_costs.append(1 - np.abs(target_sv.conj().T @ ansatz))\n",
    "\n",
    "        pre_state = pre_states[idx+1]\n",
    "        post_state = post_states[idx+1]\n",
    "        env = partial_overlap(pre_state, post_state, skip=circ[idx+1].indices)\n",
    "        cache_costs.append(1 - np.abs(np.trace(env @ circ[idx+1].matrix)))\n",
    "\n",
    "    for idx in reversed(range(1, len(circ))):\n",
    "        update_costs.append(environment_update(circ, idx, pre_states, post_states, direction='left'))\n",
    "    \n",
    "        sim = StatevectorSim(circ)\n",
    "        ansatz = sim.run(progress_bar=False).reshape(2**n)\n",
    "        simple_costs.append(1 - np.abs(target_sv.conj().T @ ansatz))\n",
    "\n",
    "        pre_state = pre_states[idx-1]\n",
    "        post_state = post_states[idx-1]\n",
    "        env = partial_overlap(pre_state, post_state, skip=circ[idx-1].indices)\n",
    "        cache_costs.append(1 - np.abs(np.trace(env @ circ[idx-1].matrix)))\n",
    "\n",
    "    assert np.allclose(simple_costs, update_costs), \"Mismatch in update costs\"\n",
    "    assert np.allclose(simple_costs, cache_costs), \"Mismatch in cache costs\"\n",
    "\n",
    "test_environment_update()"
   ]
  },
  {
   "cell_type": "code",
   "execution_count": 6,
   "id": "ea886789",
   "metadata": {},
   "outputs": [
    {
     "name": "stderr",
     "output_type": "stream",
     "text": [
      "Pre states: 100%|██████████| 5/5 [00:00<00:00, 2483.60it/s]\n",
      "Post states: 5it [00:00, 5012.31it/s]"
     ]
    },
    {
     "name": "stdout",
     "output_type": "stream",
     "text": [
      "Step 0 at time 2025-04-16T12:56:20: cost = 0.006529893102142026\n",
      "[Checkpoint saved at step 0]\n",
      "Step 15 at time 2025-04-16T12:56:20: cost = 0.00047650836974089117\n",
      "Step 30 at time 2025-04-16T12:56:20: cost = 0.00037368990055308693\n"
     ]
    },
    {
     "name": "stderr",
     "output_type": "stream",
     "text": [
      "\n"
     ]
    },
    {
     "name": "stdout",
     "output_type": "stream",
     "text": [
      "[Checkpoint saved at step 40]\n",
      "Step 45 at time 2025-04-16T12:56:21: cost = 0.0002824618369370313\n",
      "Max iterations reached with cost 0.0002627376710409024\n"
     ]
    },
    {
     "data": {
      "text/plain": [
       "(40,\n",
       " [np.float64(0.8423496243383297),\n",
       "  np.float64(0.0005417134776106725),\n",
       "  np.float64(0.000513536276964377),\n",
       "  np.float64(0.0004829707908580172),\n",
       "  np.float64(0.000449782671134602),\n",
       "  np.float64(0.0004151753734987773),\n",
       "  np.float64(0.0003805116885934323),\n",
       "  np.float64(0.000347087718263972),\n",
       "  np.float64(0.00031593584926625784)])"
      ]
     },
     "execution_count": 6,
     "metadata": {},
     "output_type": "execute_result"
    }
   ],
   "source": [
    "# testing environment based state prep\n",
    "skeleton = [(0,1), (2,3), (1,2), (0,1), (2,3)]\n",
    "target_sv = random_sv(4)\n",
    "\n",
    "context = RunContext(\n",
    "    progress_interval=15,\n",
    "    max_iter=50,\n",
    "    stop_ratio=1e-8,\n",
    "    checkpoint_file=\"test.pickle\", \n",
    "    checkpoint_interval=40,\n",
    "    )\n",
    "    \n",
    "circ, cost_list = environment_state_prep(target_sv, skeleton=skeleton, context=context)\n",
    "\n",
    "with open('test.pickle', 'rb') as f: \n",
    "    opt_state = pickle.load(f)\n",
    "\n",
    "opt_state['step'], opt_state['cost_list'][::40]"
   ]
  },
  {
   "cell_type": "code",
   "execution_count": 7,
   "id": "9f8a8968",
   "metadata": {},
   "outputs": [
    {
     "name": "stdout",
     "output_type": "stream",
     "text": [
      "[Resuming from checkpoint: step 40]\n",
      "[Checkpoint saved at step 40]\n",
      "Step 45 at time 2025-04-16T12:56:33: cost = 0.00027733405742547124\n",
      "Step 60 at time 2025-04-16T12:56:33: cost = 0.00021554562841674674\n",
      "Step 75 at time 2025-04-16T12:56:33: cost = 0.00017678854199021377\n",
      "[Checkpoint saved at step 80]\n",
      "Step 90 at time 2025-04-16T12:56:33: cost = 0.00015244896031663124\n",
      "Max iterations reached with cost 0.00014209936521569766\n"
     ]
    },
    {
     "data": {
      "text/plain": [
       "(80,\n",
       " [np.float64(0.8423496243383297),\n",
       "  np.float64(0.0005417134776106725),\n",
       "  np.float64(0.000513536276964377),\n",
       "  np.float64(0.0004829707908580172),\n",
       "  np.float64(0.000449782671134602),\n",
       "  np.float64(0.0004151753734987773),\n",
       "  np.float64(0.0003805116885934323),\n",
       "  np.float64(0.000347087718263972),\n",
       "  np.float64(0.00031593584926625784),\n",
       "  np.float64(0.00028772062218251904),\n",
       "  np.float64(0.0002627376710409024),\n",
       "  np.float64(0.0002409842638103621),\n",
       "  np.float64(0.00022225714979473565),\n",
       "  np.float64(0.00020624395485258074),\n",
       "  np.float64(0.00019259214710243278),\n",
       "  np.float64(0.00018095334783763128),\n",
       "  np.float64(0.00017100758672583538)])"
      ]
     },
     "execution_count": 7,
     "metadata": {},
     "output_type": "execute_result"
    }
   ],
   "source": [
    "# resuming from previous run\n",
    "context = RunContext(\n",
    "    progress_interval=15,\n",
    "    max_iter=100,\n",
    "    stop_ratio=1e-8,\n",
    "    checkpoint_file=\"test.pickle\", \n",
    "    checkpoint_interval=40,\n",
    "    resume=True\n",
    "    )\n",
    "    \n",
    "circ, cost_list = environment_state_prep(target_sv, skeleton=skeleton, context=context)\n",
    "\n",
    "with open('test.pickle', 'rb') as f: \n",
    "    opt_state = pickle.load(f)\n",
    "\n",
    "opt_state['step'], opt_state['cost_list'][::40]"
   ]
  },
  {
   "cell_type": "code",
   "execution_count": null,
   "id": "8dfde1c7",
   "metadata": {},
   "outputs": [],
   "source": []
  }
 ],
 "metadata": {
  "kernelspec": {
   "display_name": "qaravan",
   "language": "python",
   "name": "python3"
  },
  "language_info": {
   "codemirror_mode": {
    "name": "ipython",
    "version": 3
   },
   "file_extension": ".py",
   "mimetype": "text/x-python",
   "name": "python",
   "nbconvert_exporter": "python",
   "pygments_lexer": "ipython3",
   "version": "3.11.0"
  }
 },
 "nbformat": 4,
 "nbformat_minor": 5
}
