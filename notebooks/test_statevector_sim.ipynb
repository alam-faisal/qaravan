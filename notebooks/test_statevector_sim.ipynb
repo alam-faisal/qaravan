{
 "cells": [
  {
   "cell_type": "code",
   "execution_count": 1,
   "metadata": {},
   "outputs": [],
   "source": [
    "from qaravan.tensorQ import *\n",
    "from qaravan.core import *"
   ]
  },
  {
   "cell_type": "code",
   "execution_count": 2,
   "metadata": {},
   "outputs": [
    {
     "name": "stdout",
     "output_type": "stream",
     "text": [
      "H gate on site(s) [0] \n",
      "bottom heavy CNOT2 gate on site(s) [0, 1] \n",
      "bottom heavy CNOT2 gate on site(s) [1, 2]\n"
     ]
    },
    {
     "name": "stderr",
     "output_type": "stream",
     "text": [
      "100%|██████████| 3/3 [00:00<00:00, 1009.14it/s]"
     ]
    },
    {
     "name": "stdout",
     "output_type": "stream",
     "text": [
      "0.7071|000⟩ + 0.7071|111⟩\n"
     ]
    },
    {
     "name": "stderr",
     "output_type": "stream",
     "text": [
      "\n"
     ]
    }
   ],
   "source": [
    "# testing if we can prepare GHZ state\n",
    "gate_list = [H(0), CNOT([1,0], 3), CNOT([2,1], 3)]\n",
    "circ = Circuit(gate_list, 3)\n",
    "print(circ)\n",
    "\n",
    "sv = StatevectorSim(circ)\n",
    "final_state = sv.run()\n",
    "print(sv)"
   ]
  },
  {
   "cell_type": "code",
   "execution_count": 3,
   "metadata": {},
   "outputs": [
    {
     "data": {
      "text/plain": [
       "array(0.)"
      ]
     },
     "execution_count": 3,
     "metadata": {},
     "output_type": "execute_result"
    }
   ],
   "source": [
    "# testing local expectations\n",
    "local_ops = [pauli_Z, pauli_Z, pauli_Z]\n",
    "sv.local_expectation(local_ops) # should be zero"
   ]
  },
  {
   "cell_type": "code",
   "execution_count": 4,
   "metadata": {},
   "outputs": [
    {
     "data": {
      "text/plain": [
       "array(1.)"
      ]
     },
     "execution_count": 4,
     "metadata": {},
     "output_type": "execute_result"
    }
   ],
   "source": [
    "# testing local expectations again\n",
    "local_ops = [pauli_X, pauli_X, pauli_X]\n",
    "sv.local_expectation(local_ops) # should be 1"
   ]
  },
  {
   "cell_type": "code",
   "execution_count": 5,
   "metadata": {},
   "outputs": [
    {
     "name": "stdout",
     "output_type": "stream",
     "text": [
      "True\n",
      "True\n",
      "True\n",
      "True\n"
     ]
    }
   ],
   "source": [
    "# testing environments \n",
    "n = 4\n",
    "sv = random_sv(n)\n",
    "\n",
    "gate_list = [H(0), CNOT([1,0], n), CNOT([2,1], n), CNOT([3,2], n)]\n",
    "circ = Circuit(gate_list, n)\n",
    "sim = StatevectorSim(circ)\n",
    "final_state = sim.run(progress_bar=False).reshape(2**n)\n",
    "overlap_a = sv.conj().T @ final_state\n",
    "\n",
    "for gate_idx in range(len(circ)):\n",
    "    env, mat = sv_environment(circ, sv, gate_idx)\n",
    "    overlap_b = np.trace(env @ mat)\n",
    "    print(np.allclose(overlap_a, overlap_b))"
   ]
  },
  {
   "cell_type": "code",
   "execution_count": 7,
   "metadata": {},
   "outputs": [
    {
     "name": "stdout",
     "output_type": "stream",
     "text": [
      "Step 0 at time 2025-04-15T15:23:14: cost = 0.14733405518940146\n",
      "[Checkpoint saved at step 0]\n",
      "Plateau with cost 0.04661944431978815 at step 6\n"
     ]
    },
    {
     "data": {
      "text/plain": [
       "(0, [np.float64(0.08728179217704622), np.float64(0.14733405518940146)])"
      ]
     },
     "execution_count": 7,
     "metadata": {},
     "output_type": "execute_result"
    }
   ],
   "source": [
    "# testing environment based state prep\n",
    "skeleton = [[0, 1], [2, 3], [1, 2]]\n",
    "target_sv = random_sv(4)\n",
    "\n",
    "context = RunContext(\n",
    "    progress_interval=15,\n",
    "    max_iter=50,\n",
    "    stop_ratio=1e-8,\n",
    "    checkpoint_file=\"test.pickle\"\n",
    "    )\n",
    "    \n",
    "circ, cost_list = environment_state_prep(target_sv, skeleton=skeleton, context=context)\n",
    "\n",
    "with open('test.pickle', 'rb') as f: \n",
    "    step, circ, cost_list = pickle.load(f)\n",
    "step, cost_list"
   ]
  }
 ],
 "metadata": {
  "kernelspec": {
   "display_name": "qaravan",
   "language": "python",
   "name": "python3"
  },
  "language_info": {
   "codemirror_mode": {
    "name": "ipython",
    "version": 3
   },
   "file_extension": ".py",
   "mimetype": "text/x-python",
   "name": "python",
   "nbconvert_exporter": "python",
   "pygments_lexer": "ipython3",
   "version": "3.11.0"
  }
 },
 "nbformat": 4,
 "nbformat_minor": 2
}
