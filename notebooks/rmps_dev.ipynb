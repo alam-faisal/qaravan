{
 "cells": [
  {
   "cell_type": "code",
   "execution_count": 1,
   "metadata": {},
   "outputs": [],
   "source": [
    "from qaravan.tensorQ.initializations import periodic_rmps, haar_purity\n",
    "import numpy as np\n",
    "from tqdm.notebook import tqdm"
   ]
  },
  {
   "cell_type": "code",
   "execution_count": 2,
   "metadata": {},
   "outputs": [],
   "source": [
    "def rmps_purity(n, k_copies, chi, samples=5000, local_dim=2, distrib='isometric', params=1.0, quiet=True):\n",
    "    avg_purity = 0.0\n",
    "    r = tqdm(range(samples)) if not quiet else range(samples)\n",
    "    for _ in r:  \n",
    "        prmps_a = periodic_rmps(n, chi, local_dim=local_dim, distrib=distrib, params=params)\n",
    "        prmps_b = periodic_rmps(n, chi, local_dim=local_dim, distrib=distrib, params=params)\n",
    "        avg_purity += np.abs(overlap(prmps_a, prmps_b, chi))**(2*k_copies)\n",
    "    \n",
    "    avg_purity /= samples\n",
    "    return avg_purity"
   ]
  },
  {
   "cell_type": "code",
   "execution_count": 3,
   "metadata": {},
   "outputs": [],
   "source": [
    "n = 4 \n",
    "k_copies = 2 \n",
    "hp = haar_purity(n, k_copies)"
   ]
  },
  {
   "cell_type": "code",
   "execution_count": null,
   "metadata": {},
   "outputs": [],
   "source": []
  },
  {
   "cell_type": "code",
   "execution_count": null,
   "metadata": {},
   "outputs": [],
   "source": []
  }
 ],
 "metadata": {
  "kernelspec": {
   "display_name": "qaravan",
   "language": "python",
   "name": "python3"
  },
  "language_info": {
   "codemirror_mode": {
    "name": "ipython",
    "version": 3
   },
   "file_extension": ".py",
   "mimetype": "text/x-python",
   "name": "python",
   "nbconvert_exporter": "python",
   "pygments_lexer": "ipython3",
   "version": "3.11.0"
  }
 },
 "nbformat": 4,
 "nbformat_minor": 2
}
