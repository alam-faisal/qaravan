{
 "cells": [
  {
   "cell_type": "code",
   "execution_count": 2,
   "id": "971f557d",
   "metadata": {},
   "outputs": [],
   "source": [
    "from qaravan.tensorQ import *\n",
    "from qaravan.core import *"
   ]
  },
  {
   "cell_type": "code",
   "execution_count": 3,
   "id": "85f92f49",
   "metadata": {},
   "outputs": [
    {
     "name": "stdout",
     "output_type": "stream",
     "text": [
      "True\n",
      "True\n",
      "True\n",
      "True\n"
     ]
    }
   ],
   "source": [
    "# testing environments \n",
    "n = 4\n",
    "sv = random_sv(n)\n",
    "\n",
    "gate_list = [H(0), CNOT([1,0], n), CNOT([2,1], n), CNOT([3,2], n)]\n",
    "circ = Circuit(gate_list, n)\n",
    "sim = StatevectorSim(circ)\n",
    "final_state = sim.run(progress_bar=False).reshape(2**n)\n",
    "overlap_a = sv.conj().T @ final_state\n",
    "\n",
    "for gate_idx in range(len(circ)):\n",
    "    env, mat = sv_environment(circ, sv, gate_idx)\n",
    "    overlap_b = np.trace(env @ mat)\n",
    "    print(np.allclose(overlap_a, overlap_b))"
   ]
  },
  {
   "cell_type": "code",
   "execution_count": 6,
   "id": "ea886789",
   "metadata": {},
   "outputs": [
    {
     "name": "stdout",
     "output_type": "stream",
     "text": [
      "Step 0 at time 2025-04-17T13:19:12: cost = 0.03210770821641806\n",
      "[Checkpoint saved at step 0]\n"
     ]
    },
    {
     "name": "stdout",
     "output_type": "stream",
     "text": [
      "Step 50 at time 2025-04-17T13:19:13: cost = 0.0007412372372828102\n",
      "Step 100 at time 2025-04-17T13:19:13: cost = 0.0004754465437363242\n",
      "[Checkpoint saved at step 100]\n",
      "Step 150 at time 2025-04-17T13:19:14: cost = 0.000252257777125231\n",
      "Step 200 at time 2025-04-17T13:19:14: cost = 0.00019289662071553249\n",
      "[Checkpoint saved at step 200]\n",
      "Step 250 at time 2025-04-17T13:19:14: cost = 0.0001696390965120198\n",
      "Step 300 at time 2025-04-17T13:19:14: cost = 0.0001521004762945477\n",
      "[Checkpoint saved at step 300]\n",
      "Step 350 at time 2025-04-17T13:19:15: cost = 0.00013496231182119622\n",
      "Step 400 at time 2025-04-17T13:19:15: cost = 0.00011661912685001496\n",
      "[Checkpoint saved at step 400]\n",
      "Step 450 at time 2025-04-17T13:19:15: cost = 9.698024048621079e-05\n",
      "Max iterations reached with cost 7.733041672941532e-05\n"
     ]
    },
    {
     "data": {
      "text/plain": [
       "(400,\n",
       " [np.float64(0.7754481558946523),\n",
       "  np.float64(0.0009067399236432072),\n",
       "  np.float64(0.0006217832630756037),\n",
       "  np.float64(0.00044090025207843553),\n",
       "  np.float64(0.0002745053536931108),\n",
       "  np.float64(0.00021012117706065148),\n",
       "  np.float64(0.00018547016550829465),\n",
       "  np.float64(0.00017001835827679113),\n",
       "  np.float64(0.00015728243501644812),\n",
       "  np.float64(0.00014510508231313501),\n",
       "  np.float64(0.00013271093415589963),\n",
       "  np.float64(0.00011968343518731217)])"
      ]
     },
     "execution_count": 6,
     "metadata": {},
     "output_type": "execute_result"
    }
   ],
   "source": [
    "# testing environment based state prep\n",
    "n = 5\n",
    "skeleton = brickwall_skeleton(n, 2)\n",
    "target_sv = random_sv(n)\n",
    "\n",
    "context = RunContext(\n",
    "    progress_interval=50,\n",
    "    max_iter=500,\n",
    "    stop_ratio=1e-8,\n",
    "    checkpoint_file=\"test.pickle\", \n",
    "    checkpoint_interval=100,\n",
    "    )\n",
    "    \n",
    "circ, cost_list = environment_state_prep(target_sv, skeleton=skeleton, context=context)\n",
    "\n",
    "with open('test.pickle', 'rb') as f: \n",
    "    opt_state = pickle.load(f)\n",
    "\n",
    "opt_state['step'], opt_state['cost_list'][::500]"
   ]
  },
  {
   "cell_type": "code",
   "execution_count": 7,
   "id": "9f8a8968",
   "metadata": {},
   "outputs": [
    {
     "name": "stdout",
     "output_type": "stream",
     "text": [
      "[Resuming from checkpoint: step 400]\n",
      "Step 400 at time 2025-04-17T13:19:16: cost = 0.00011623745933220242\n"
     ]
    },
    {
     "name": "stdout",
     "output_type": "stream",
     "text": [
      "[Checkpoint saved at step 400]\n",
      "Step 450 at time 2025-04-17T13:19:16: cost = 9.657907597970805e-05\n",
      "Step 500 at time 2025-04-17T13:19:16: cost = 7.653901903414972e-05\n",
      "[Checkpoint saved at step 500]\n",
      "Step 550 at time 2025-04-17T13:19:17: cost = 5.758083908546929e-05\n",
      "Step 600 at time 2025-04-17T13:19:17: cost = 4.1163367886287716e-05\n",
      "[Checkpoint saved at step 600]\n",
      "Step 650 at time 2025-04-17T13:19:17: cost = 2.8177639148974087e-05\n",
      "Step 700 at time 2025-04-17T13:19:17: cost = 1.8709032720387597e-05\n",
      "[Checkpoint saved at step 700]\n",
      "Step 750 at time 2025-04-17T13:19:18: cost = 1.2225816635513809e-05\n",
      "Step 800 at time 2025-04-17T13:19:18: cost = 7.960456735234267e-06\n",
      "[Checkpoint saved at step 800]\n",
      "Step 850 at time 2025-04-17T13:19:18: cost = 5.2046218470547245e-06\n",
      "Step 900 at time 2025-04-17T13:19:19: cost = 3.427394079658086e-06\n",
      "[Checkpoint saved at step 900]\n",
      "Step 950 at time 2025-04-17T13:19:19: cost = 2.2730255322400694e-06\n",
      "Max iterations reached with cost 1.5279687902713945e-06\n"
     ]
    },
    {
     "data": {
      "text/plain": [
       "(900,\n",
       " [np.float64(0.7754481558946523),\n",
       "  np.float64(0.0009067399236432072),\n",
       "  np.float64(0.0006217832630756037),\n",
       "  np.float64(0.00044090025207843553),\n",
       "  np.float64(0.0002745053536931108),\n",
       "  np.float64(0.00021012117706065148),\n",
       "  np.float64(0.00018547016550829465),\n",
       "  np.float64(0.00017001835827679113),\n",
       "  np.float64(0.00015728243501644812),\n",
       "  np.float64(0.00014510508231313501),\n",
       "  np.float64(0.00013271093415589963),\n",
       "  np.float64(0.00011968343518731217),\n",
       "  np.float64(0.00010581501962048101),\n",
       "  np.float64(9.158700020139854e-05),\n",
       "  np.float64(7.733041672941532e-05),\n",
       "  np.float64(6.349697080687555e-05),\n",
       "  np.float64(5.0731704169360015e-05),\n",
       "  np.float64(3.9591344083156343e-05),\n",
       "  np.float64(3.0261929690134082e-05),\n",
       "  np.float64(2.267981891579396e-05),\n",
       "  np.float64(1.684925973610696e-05),\n",
       "  np.float64(1.2437374332208151e-05),\n",
       "  np.float64(9.142055233057889e-06),\n",
       "  np.float64(6.7243091403934585e-06),\n",
       "  np.float64(4.974684543634922e-06),\n",
       "  np.float64(3.6965225541640834e-06)])"
      ]
     },
     "execution_count": 7,
     "metadata": {},
     "output_type": "execute_result"
    }
   ],
   "source": [
    "# resuming from previous run\n",
    "context = RunContext(\n",
    "    progress_interval=50,\n",
    "    max_iter=1000,\n",
    "    stop_ratio=1e-8,\n",
    "    checkpoint_file=\"test.pickle\", \n",
    "    checkpoint_interval=100,\n",
    "    resume=True\n",
    "    )\n",
    "    \n",
    "circ, cost_list = environment_state_prep(target_sv, skeleton=skeleton, context=context)\n",
    "\n",
    "with open('test.pickle', 'rb') as f: \n",
    "    opt_state = pickle.load(f)\n",
    "\n",
    "opt_state['step'], opt_state['cost_list'][::500]"
   ]
  },
  {
   "cell_type": "code",
   "execution_count": null,
   "id": "8dfde1c7",
   "metadata": {},
   "outputs": [],
   "source": []
  },
  {
   "cell_type": "code",
   "execution_count": null,
   "id": "04c8354e",
   "metadata": {},
   "outputs": [],
   "source": []
  }
 ],
 "metadata": {
  "kernelspec": {
   "display_name": "qaravan",
   "language": "python",
   "name": "python3"
  },
  "language_info": {
   "codemirror_mode": {
    "name": "ipython",
    "version": 3
   },
   "file_extension": ".py",
   "mimetype": "text/x-python",
   "name": "python",
   "nbconvert_exporter": "python",
   "pygments_lexer": "ipython3",
   "version": "3.11.0"
  }
 },
 "nbformat": 4,
 "nbformat_minor": 5
}
