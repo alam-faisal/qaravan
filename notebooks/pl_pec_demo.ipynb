{
 "cells": [
  {
   "cell_type": "code",
   "execution_count": 3,
   "id": "58e3b8c1",
   "metadata": {},
   "outputs": [],
   "source": [
    "import stim\n",
    "import numpy as np"
   ]
  },
  {
   "cell_type": "code",
   "execution_count": null,
   "id": "6dcedd5b",
   "metadata": {},
   "outputs": [],
   "source": [
    "class PauliLindbladChannel(object):\n",
    "    def __init__(self,strings,probs):\n",
    "        self.strings = [stim.PauliString(i) for i in strings]\n",
    "        self.probs = probs\n",
    "        self.num_qubits = len(strings[0])\n",
    "        self.id = stim.PauliString(['I'] * self.num_qubits)\n",
    "        \n",
    "    def sample_string(self,rng=np.random.default_rng()):\n",
    "        xx = [rng.random() < p for p in self.probs] # which terms appear in the sample\n",
    "        include = [b for x,b in zip(xx,self.strings) if x]\n",
    "        P = self.id.copy()\n",
    "        for i in range(len(include)):\n",
    "            P *= include[i]\n",
    "        return P\n",
    "    \n",
    "    def copy(self):\n",
    "        return PauliLindbladChannel(self.strings.copy(),self.probs.copy())"
   ]
  }
 ],
 "metadata": {
  "kernelspec": {
   "display_name": "qaravan",
   "language": "python",
   "name": "python3"
  },
  "language_info": {
   "codemirror_mode": {
    "name": "ipython",
    "version": 3
   },
   "file_extension": ".py",
   "mimetype": "text/x-python",
   "name": "python",
   "nbconvert_exporter": "python",
   "pygments_lexer": "ipython3",
   "version": "3.11.0"
  }
 },
 "nbformat": 4,
 "nbformat_minor": 5
}
