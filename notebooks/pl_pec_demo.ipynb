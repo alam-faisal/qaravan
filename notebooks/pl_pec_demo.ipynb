{
 "cells": [
  {
   "cell_type": "code",
   "execution_count": 10,
   "id": "58e3b8c1",
   "metadata": {},
   "outputs": [],
   "source": [
    "from qaravan.core import *\n",
    "from qaravan.tensorQ import *"
   ]
  },
  {
   "cell_type": "code",
   "execution_count": null,
   "id": "6dcedd5b",
   "metadata": {},
   "outputs": [],
   "source": []
  }
 ],
 "metadata": {
  "kernelspec": {
   "display_name": "qaravan",
   "language": "python",
   "name": "python3"
  },
  "language_info": {
   "codemirror_mode": {
    "name": "ipython",
    "version": 3
   },
   "file_extension": ".py",
   "mimetype": "text/x-python",
   "name": "python",
   "nbconvert_exporter": "python",
   "pygments_lexer": "ipython3",
   "version": "3.11.0"
  }
 },
 "nbformat": 4,
 "nbformat_minor": 5
}
