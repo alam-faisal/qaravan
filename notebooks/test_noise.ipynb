{
 "cells": [
  {
   "cell_type": "code",
   "execution_count": 1,
   "metadata": {},
   "outputs": [],
   "source": [
    "from qaravan.core import * \n",
    "from qaravan.tensorQ import *"
   ]
  },
  {
   "cell_type": "code",
   "execution_count": 2,
   "metadata": {},
   "outputs": [
    {
     "data": {
      "text/plain": [
       "array([[1., 0.],\n",
       "       [0., 1.]])"
      ]
     },
     "execution_count": 2,
     "metadata": {},
     "output_type": "execute_result"
    }
   ],
   "source": [
    "# testing QubitNoise\n",
    "\n",
    "t1 = 1000\n",
    "t2 = 1000\n",
    "one_qubit_time = 10\n",
    "two_qubit_time = 100\n",
    "\n",
    "nm = QubitNoise(t1, t2, one_qubit_time, two_qubit_time)\n",
    "kraus_list = nm.get_kraus(time=two_qubit_time) \n",
    "\n",
    "sum([k.conj().T @ k for k in kraus_list])"
   ]
  },
  {
   "cell_type": "code",
   "execution_count": 12,
   "metadata": {},
   "outputs": [
    {
     "data": {
      "text/plain": [
       "array([[1.+0.j, 0.+0.j, 0.+0.j, 0.+0.j],\n",
       "       [0.+0.j, 1.+0.j, 0.+0.j, 0.+0.j],\n",
       "       [0.+0.j, 0.+0.j, 1.+0.j, 0.+0.j],\n",
       "       [0.+0.j, 0.+0.j, 0.+0.j, 1.+0.j]])"
      ]
     },
     "execution_count": 12,
     "metadata": {},
     "output_type": "execute_result"
    }
   ],
   "source": [
    "# testing PauliNoise\n",
    "\n",
    "strings = ['ii', 'ix', 'zy', 'zz']\n",
    "probs = [0.9, 0.04, 0.03, 0.03]\n",
    "nm = PauliNoise(strings, probs)\n",
    "kraus_list = nm.get_kraus()\n",
    "sum([k.conj().T @ k for k in kraus_list])"
   ]
  },
  {
   "cell_type": "code",
   "execution_count": 20,
   "metadata": {},
   "outputs": [
    {
     "name": "stdout",
     "output_type": "stream",
     "text": [
      "{'ii': np.float64(1.0)}\n"
     ]
    }
   ],
   "source": [
    "strings = ['ii', 'xx', 'yx']\n",
    "probs = [0.3, 0.4, 0.3]\n",
    "nm = PauliNoise(strings, probs)\n",
    "\n",
    "nm_inv = nm.pinv()\n",
    "nm_mod = nm_inv.compose(nm)\n",
    "print(nm_mod)"
   ]
  },
  {
   "cell_type": "code",
   "execution_count": 21,
   "metadata": {},
   "outputs": [
    {
     "name": "stdout",
     "output_type": "stream",
     "text": [
      "2.220446049250313e-16\n"
     ]
    }
   ],
   "source": [
    "ptm     = nm.ptm()                 # diagonal matrix F\n",
    "ptm_inv = nm_inv.ptm()             # F^{-1}\n",
    "print(np.max(np.abs(ptm_inv @ ptm - np.eye(ptm.shape[0]))))"
   ]
  },
  {
   "cell_type": "code",
   "execution_count": 22,
   "metadata": {},
   "outputs": [
    {
     "name": "stdout",
     "output_type": "stream",
     "text": [
      "3.15\n"
     ]
    }
   ],
   "source": [
    "S      = nm.get_superop()\n",
    "S_inv  = nm_inv.get_superop()\n",
    "print(np.max(np.abs(S_inv @ S - np.eye(S.shape[0]))))"
   ]
  },
  {
   "cell_type": "code",
   "execution_count": 9,
   "metadata": {},
   "outputs": [
    {
     "name": "stdout",
     "output_type": "stream",
     "text": [
      "[np.float64(0.22559418195298675), np.float64(0.2753355179413892)]\n"
     ]
    },
    {
     "data": {
      "text/plain": [
       "np.complex128(0.2487653780640991+0j)"
      ]
     },
     "execution_count": 9,
     "metadata": {},
     "output_type": "execute_result"
    }
   ],
   "source": [
    "# testing PauliLindbladNoise\n",
    "\n",
    "p1 = 0.3\n",
    "p2 = 0.4\n",
    "\n",
    "strings = ['xx', 'yx']\n",
    "probs = [p1, p2]\n",
    "channel = PauliLindbladNoise(strings, probs)\n",
    "superop = channel.get_superop().reshape([2]*8)\n",
    "print(channel.rates)\n",
    "\n",
    "dm = random_dm(2)\n",
    "state = dm.reshape([2]*4)\n",
    "gate_indices, state_indices = generate_gate_indices([0,1], 2), generate_state_indices([0,1], 2)\n",
    "new_state = ncon((superop, state), (gate_indices, state_indices))\n",
    "new_dm = new_state.reshape(4,4)\n",
    "\n",
    "r = channel.rates\n",
    "P0, r0 = embed_operator(2, [0,1], [pauli_mapping[s] for s in strings[0]], dense=True), channel.rates[0]\n",
    "P1, r1 = embed_operator(2, [0,1], [pauli_mapping[s] for s in strings[1]], dense=True), channel.rates[1]\n",
    "\n",
    "dm_a = (1-r0)*dm + r0*P0 @ dm @ P0.T.conj()\n",
    "dm_b = (1-r1)*dm_a + r1*P1 @ dm_a @ P1.T.conj()\n",
    "np.allclose(dm_b, new_dm)"
   ]
  },
  {
   "cell_type": "code",
   "execution_count": 8,
   "metadata": {},
   "outputs": [
    {
     "name": "stdout",
     "output_type": "stream",
     "text": [
      "True freq: 0.5611843910382136, Sampled freq: 0.5525\n",
      "True freq: 0.21322142700879962, Sampled freq: 0.2207\n",
      "True freq: 0.16348009102039715, Sampled freq: 0.1653\n",
      "True freq: 0.062114090932589607, Sampled freq: 0.0615\n"
     ]
    }
   ],
   "source": [
    "# testing sampling from PL channels \n",
    "\n",
    "true_freqs = [(1-r0)*(1-r1), (1-r0)*r1, r0*(1-r1), r0*r1]\n",
    "samples = [channel.sample_string() for _ in range(10000)]\n",
    "\n",
    "from collections import Counter\n",
    "counts = Counter(samples)\n",
    "keys = ['ii', 'yx', 'xx', 'zi']\n",
    "freqs = [counts[k] / 10000 for k in keys]\n",
    "\n",
    "for i in range(4):\n",
    "    print(f\"True freq: {true_freqs[i]}, Sampled freq: {freqs[i]}\")\n",
    "    assert np.isclose(true_freqs[i], freqs[i], atol=0.05)"
   ]
  },
  {
   "cell_type": "code",
   "execution_count": null,
   "metadata": {},
   "outputs": [],
   "source": [
    "# test manual simulation of PL channel\n",
    "\n",
    "gate_list = [H(0), RZ(0, np.pi/4), H(0)]\n",
    "circ = Circuit(gate_list, 2)\n",
    "\n",
    "mat = circ.to_matrix()\n",
    "init_sv = np.array([1, 0, 0, 0])\n",
    "final_sv = mat @ init_sv\n",
    "dm = np.outer(final_sv, final_sv.conj())\n",
    "\n",
    "op = (np.kron(pauli_Z, pauli_I) + np.kron(pauli_I, pauli_Z))/(2*np.sqrt(2))\n",
    "noiseless_exp = np.trace(op @ dm).real\n",
    "\n",
    "strengths = np.logspace(-6, 0, num=100)\n",
    "noisy_exp_list = []\n",
    "for strength in strengths: \n",
    "    coeffs = np.random.rand(2) * strength\n",
    "    strings = ['xx', 'yx']\n",
    "    channel = PauliLindbladNoise(strings, coeffs)\n",
    "    superop = channel.get_superop().reshape([2]*8)\n",
    "    #print(channel.rates)\n",
    "\n",
    "    state = dm.reshape([2]*4)\n",
    "    gate_indices, state_indices = generate_gate_indices([0,1], 2), generate_state_indices([0,1], 2)\n",
    "    new_state = ncon((superop, state), (gate_indices, state_indices))\n",
    "    noisy_dm = new_state.reshape(4,4)\n",
    "\n",
    "    noisy_exp_list.append(np.trace(op @ noisy_dm).real)\n",
    "\n",
    "plt.plot(strengths, noisy_exp_list, label='noisy expectation')\n",
    "plt.axhline(y=noiseless_exp, color='r', linestyle='--', label='noiseless expectation')\n",
    "plt.xscale('log')\n",
    "plt.xlabel('Pauli-Lindblad noise strength')\n",
    "plt.ylabel('magnetization')\n",
    "plt.legend()"
   ]
  },
  {
   "cell_type": "code",
   "execution_count": null,
   "metadata": {},
   "outputs": [],
   "source": [
    "# testing DensityMatrixSim with PL noise\n",
    "\n",
    "gate_list = [H(0), RZ(0, np.pi/4), H(0)]\n",
    "circ = Circuit(gate_list, 2)\n",
    "\n",
    "mat = circ.to_matrix()\n",
    "init_sv = np.array([1, 0, 0, 0])\n",
    "final_sv = mat @ init_sv\n",
    "dm = np.outer(final_sv, final_sv.conj())\n",
    "\n",
    "op = (np.kron(pauli_Z, pauli_I) + np.kron(pauli_I, pauli_Z))/(2*np.sqrt(2))\n",
    "noiseless_exp = np.trace(op @ dm).real\n",
    "\n",
    "strengths = np.logspace(-6, 0, num=100)\n",
    "noisy_exp_list = []\n",
    "for strength in strengths: \n",
    "    coeffs = np.random.rand(2) * strength\n",
    "    strings = ['xx', 'yx']\n",
    "    channel = PauliLindbladNoise(strings, coeffs)\n",
    "\n",
    "    sim = DensityMatrixSim(circ=copy.deepcopy(circ), nm=channel)\n",
    "    sim.run(progress_bar=False)\n",
    "    dm = sim.get_density_matrix()\n",
    "    noisy_exp = np.trace(op @ dm).real\n",
    "    noisy_exp_list.append(noisy_exp)\n",
    "\n",
    "plt.plot(strengths, noisy_exp_list, label='noisy expectation')\n",
    "plt.axhline(y=noiseless_exp, color='r', linestyle='--', label='noiseless expectation')\n",
    "plt.xscale('log')\n",
    "plt.xlabel('Pauli-Lindblad noise strength')\n",
    "plt.ylabel('magnetization')\n",
    "plt.legend()"
   ]
  }
 ],
 "metadata": {
  "kernelspec": {
   "display_name": "qaravan",
   "language": "python",
   "name": "python3"
  },
  "language_info": {
   "codemirror_mode": {
    "name": "ipython",
    "version": 3
   },
   "file_extension": ".py",
   "mimetype": "text/x-python",
   "name": "python",
   "nbconvert_exporter": "python",
   "pygments_lexer": "ipython3",
   "version": "3.11.0"
  }
 },
 "nbformat": 4,
 "nbformat_minor": 2
}
