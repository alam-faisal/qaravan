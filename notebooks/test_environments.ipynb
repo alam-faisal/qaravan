{
 "cells": [
  {
   "cell_type": "code",
   "execution_count": 1,
   "id": "971f557d",
   "metadata": {},
   "outputs": [],
   "source": [
    "from qaravan.tensorQ import *\n",
    "from qaravan.core import *"
   ]
  },
  {
   "cell_type": "code",
   "execution_count": 2,
   "id": "85f92f49",
   "metadata": {},
   "outputs": [
    {
     "name": "stdout",
     "output_type": "stream",
     "text": [
      "True\n",
      "True\n",
      "True\n",
      "True\n"
     ]
    }
   ],
   "source": [
    "# testing environments \n",
    "n = 4\n",
    "sv = random_sv(n)\n",
    "\n",
    "gate_list = [H(0), CNOT([1,0], n), CNOT([2,1], n), CNOT([3,2], n)]\n",
    "circ = Circuit(gate_list, n)\n",
    "sim = StatevectorSim(circ)\n",
    "final_state = sim.run(progress_bar=False).reshape(2**n)\n",
    "overlap_a = sv.conj().T @ final_state\n",
    "\n",
    "for gate_idx in range(len(circ)):\n",
    "    env, mat = sv_environment(circ, sv, gate_idx)\n",
    "    overlap_b = np.trace(env @ mat)\n",
    "    print(np.allclose(overlap_a, overlap_b))"
   ]
  },
  {
   "cell_type": "code",
   "execution_count": 9,
   "id": "ea886789",
   "metadata": {},
   "outputs": [
    {
     "name": "stdout",
     "output_type": "stream",
     "text": [
      "Step 0 at time 2025-04-17T12:44:31: cost = 0.014518341460622142\n",
      "[Checkpoint saved at step 0]\n"
     ]
    },
    {
     "name": "stdout",
     "output_type": "stream",
     "text": [
      "Step 50 at time 2025-04-17T12:44:31: cost = 4.546377771352805e-05\n",
      "Step 100 at time 2025-04-17T12:44:32: cost = 1.928842922005458e-05\n",
      "[Checkpoint saved at step 100]\n",
      "Step 150 at time 2025-04-17T12:44:32: cost = 1.0643510892305308e-05\n",
      "Step 200 at time 2025-04-17T12:44:32: cost = 6.3644923727901315e-06\n",
      "[Checkpoint saved at step 200]\n",
      "Step 250 at time 2025-04-17T12:44:33: cost = 3.947853291830228e-06\n",
      "Step 300 at time 2025-04-17T12:44:33: cost = 2.5012390205692014e-06\n",
      "[Checkpoint saved at step 300]\n",
      "Step 350 at time 2025-04-17T12:44:33: cost = 1.6072516333398568e-06\n",
      "Step 400 at time 2025-04-17T12:44:34: cost = 1.0434273124415583e-06\n",
      "[Checkpoint saved at step 400]\n",
      "Step 450 at time 2025-04-17T12:44:34: cost = 6.826945708748866e-07\n",
      "Max iterations reached with cost 4.5315715280214164e-07\n"
     ]
    },
    {
     "data": {
      "text/plain": [
       "(400,\n",
       " [np.float64(0.7697355942897102),\n",
       "  np.float64(3.5324236868916614e-05),\n",
       "  np.float64(1.427824062327776e-05),\n",
       "  np.float64(7.260102290573833e-06),\n",
       "  np.float64(3.984786012711794e-06),\n",
       "  np.float64(2.2521653082474558e-06),\n",
       "  np.float64(1.3048048875807794e-06)])"
      ]
     },
     "execution_count": 9,
     "metadata": {},
     "output_type": "execute_result"
    }
   ],
   "source": [
    "# testing environment based state prep\n",
    "skeleton = [(0,1), (2,3), (1,2), (0,1), (2,3)]\n",
    "target_sv = random_sv(4)\n",
    "\n",
    "context = RunContext(\n",
    "    progress_interval=50,\n",
    "    max_iter=500,\n",
    "    stop_ratio=1e-8,\n",
    "    checkpoint_file=\"test.pickle\", \n",
    "    checkpoint_interval=100,\n",
    "    )\n",
    "    \n",
    "circ, cost_list = environment_state_prep(target_sv, skeleton=skeleton, context=context)\n",
    "\n",
    "with open('test.pickle', 'rb') as f: \n",
    "    opt_state = pickle.load(f)\n",
    "\n",
    "opt_state['step'], opt_state['cost_list'][::500]"
   ]
  },
  {
   "cell_type": "code",
   "execution_count": 10,
   "id": "9f8a8968",
   "metadata": {},
   "outputs": [
    {
     "name": "stdout",
     "output_type": "stream",
     "text": [
      "[Resuming from checkpoint: step 400]\n",
      "Step 400 at time 2025-04-17T12:45:05: cost = 1.0345397410960189e-06\n",
      "[Checkpoint saved at step 400]\n"
     ]
    },
    {
     "name": "stdout",
     "output_type": "stream",
     "text": [
      "Step 450 at time 2025-04-17T12:45:06: cost = 6.769721763166814e-07\n",
      "Step 500 at time 2025-04-17T12:45:07: cost = 4.45687649897053e-07\n",
      "[Checkpoint saved at step 500]\n",
      "Step 550 at time 2025-04-17T12:45:07: cost = 2.948404260738613e-07\n",
      "Step 600 at time 2025-04-17T12:45:07: cost = 1.958067951113307e-07\n",
      "[Checkpoint saved at step 600]\n",
      "Step 650 at time 2025-04-17T12:45:08: cost = 1.3044584179500163e-07\n",
      "Step 700 at time 2025-04-17T12:45:08: cost = 8.712412136180347e-08\n",
      "[Checkpoint saved at step 700]\n",
      "Step 750 at time 2025-04-17T12:45:08: cost = 5.83105397300443e-08\n",
      "Step 800 at time 2025-04-17T12:45:09: cost = 3.909223789122507e-08\n",
      "[Checkpoint saved at step 800]\n",
      "Step 850 at time 2025-04-17T12:45:09: cost = 2.6244282858023382e-08\n",
      "Step 900 at time 2025-04-17T12:45:09: cost = 1.76388588180032e-08\n",
      "[Checkpoint saved at step 900]\n",
      "Step 950 at time 2025-04-17T12:45:09: cost = 1.1866123639237003e-08\n",
      "Max iterations reached with cost 8.052135735958643e-09\n"
     ]
    },
    {
     "data": {
      "text/plain": [
       "(900,\n",
       " [np.float64(0.7697355942897102),\n",
       "  np.float64(3.5324236868916614e-05),\n",
       "  np.float64(1.427824062327776e-05),\n",
       "  np.float64(7.260102290573833e-06),\n",
       "  np.float64(3.984786012711794e-06),\n",
       "  np.float64(2.2521653082474558e-06),\n",
       "  np.float64(1.3048048875807794e-06),\n",
       "  np.float64(7.635725286503359e-07),\n",
       "  np.float64(4.5315715280214164e-07),\n",
       "  np.float64(2.6998358881868967e-07),\n",
       "  np.float64(1.623800165440059e-07),\n",
       "  np.float64(9.774663023431884e-08),\n",
       "  np.float64(5.925262369643747e-08),\n",
       "  np.float64(3.5887696814285164e-08),\n",
       "  np.float64(2.185747027816376e-08)])"
      ]
     },
     "execution_count": 10,
     "metadata": {},
     "output_type": "execute_result"
    }
   ],
   "source": [
    "# resuming from previous run\n",
    "context = RunContext(\n",
    "    progress_interval=50,\n",
    "    max_iter=1000,\n",
    "    stop_ratio=1e-8,\n",
    "    checkpoint_file=\"test.pickle\", \n",
    "    checkpoint_interval=100,\n",
    "    resume=True\n",
    "    )\n",
    "    \n",
    "circ, cost_list = environment_state_prep(target_sv, skeleton=skeleton, context=context)\n",
    "\n",
    "with open('test.pickle', 'rb') as f: \n",
    "    opt_state = pickle.load(f)\n",
    "\n",
    "opt_state['step'], opt_state['cost_list'][::500]"
   ]
  },
  {
   "cell_type": "code",
   "execution_count": null,
   "id": "8dfde1c7",
   "metadata": {},
   "outputs": [],
   "source": []
  }
 ],
 "metadata": {
  "kernelspec": {
   "display_name": "qaravan",
   "language": "python",
   "name": "python3"
  },
  "language_info": {
   "codemirror_mode": {
    "name": "ipython",
    "version": 3
   },
   "file_extension": ".py",
   "mimetype": "text/x-python",
   "name": "python",
   "nbconvert_exporter": "python",
   "pygments_lexer": "ipython3",
   "version": "3.11.0"
  }
 },
 "nbformat": 4,
 "nbformat_minor": 5
}
