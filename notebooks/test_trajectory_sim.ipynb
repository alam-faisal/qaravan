{
 "cells": [
  {
   "cell_type": "code",
   "execution_count": 1,
   "id": "f3154d4b",
   "metadata": {},
   "outputs": [],
   "source": [
    "from qaravan.core import *\n",
    "from qaravan.tensorQ import *\n",
    "import matplotlib.pyplot as plt\n",
    "from tqdm.notebook import tqdm"
   ]
  },
  {
   "cell_type": "code",
   "execution_count": 16,
   "id": "5544ef5b",
   "metadata": {},
   "outputs": [
    {
     "data": {
      "text/plain": [
       "np.float64(0.6035533905932735)"
      ]
     },
     "execution_count": 16,
     "metadata": {},
     "output_type": "execute_result"
    }
   ],
   "source": [
    "gate_list = [H(0), RZ(0, np.pi/4), H(0)]\n",
    "circ = Circuit(gate_list, 2)\n",
    "\n",
    "mat = circ.to_matrix()\n",
    "init_sv = np.array([1, 0, 0, 0])\n",
    "final_sv = mat @ init_sv\n",
    "dm = np.outer(final_sv, final_sv.conj())\n",
    "\n",
    "op = (np.kron(pauli_Z, pauli_I) + np.kron(pauli_I, pauli_Z))/(2*np.sqrt(2))\n",
    "noiseless_exp = np.trace(op @ dm).real\n",
    "noiseless_exp"
   ]
  },
  {
   "cell_type": "code",
   "execution_count": 32,
   "id": "277a2c27",
   "metadata": {},
   "outputs": [
    {
     "data": {
      "text/plain": [
       "np.float64(0.18410041463149632)"
      ]
     },
     "execution_count": 32,
     "metadata": {},
     "output_type": "execute_result"
    }
   ],
   "source": [
    "strength = 0.3\n",
    "coeffs = np.random.rand(2) * strength\n",
    "strings = ['xx', 'yx']\n",
    "channel = PauliLindbladNoise(strings, coeffs)\n",
    "sim = DensityMatrixSim(circ=copy.deepcopy(circ), nm=channel)\n",
    "sim.run(progress_bar=False)\n",
    "dm = sim.get_density_matrix()\n",
    "noisy_exp = np.trace(op @ dm).real\n",
    "noisy_exp"
   ]
  },
  {
   "cell_type": "code",
   "execution_count": 33,
   "id": "49f1f736",
   "metadata": {},
   "outputs": [
    {
     "data": {
      "application/vnd.jupyter.widget-view+json": {
       "model_id": "adce42ce57e34615b43e59568f79768f",
       "version_major": 2,
       "version_minor": 0
      },
      "text/plain": [
       "  0%|          | 0/100000 [00:00<?, ?it/s]"
      ]
     },
     "metadata": {},
     "output_type": "display_data"
    },
    {
     "data": {
      "application/vnd.jupyter.widget-view+json": {
       "model_id": "b8a8835530ee4a54b0e6dc614fdc7841",
       "version_major": 2,
       "version_minor": 0
      },
      "text/plain": [
       "  0%|          | 0/100 [00:00<?, ?it/s]"
      ]
     },
     "metadata": {},
     "output_type": "display_data"
    },
    {
     "data": {
      "application/vnd.jupyter.widget-view+json": {
       "model_id": "a2394cbb112f4167a63cf6d9572be077",
       "version_major": 2,
       "version_minor": 0
      },
      "text/plain": [
       "  0%|          | 0/100 [00:00<?, ?it/s]"
      ]
     },
     "metadata": {},
     "output_type": "display_data"
    },
    {
     "data": {
      "application/vnd.jupyter.widget-view+json": {
       "model_id": "942109a8cbd0469baf2386b1db2bb49a",
       "version_major": 2,
       "version_minor": 0
      },
      "text/plain": [
       "  0%|          | 0/100 [00:00<?, ?it/s]"
      ]
     },
     "metadata": {},
     "output_type": "display_data"
    },
    {
     "data": {
      "application/vnd.jupyter.widget-view+json": {
       "model_id": "99162ba0586a4fc99bcae5f5025f3694",
       "version_major": 2,
       "version_minor": 0
      },
      "text/plain": [
       "  0%|          | 0/100 [00:00<?, ?it/s]"
      ]
     },
     "metadata": {},
     "output_type": "display_data"
    },
    {
     "data": {
      "application/vnd.jupyter.widget-view+json": {
       "model_id": "a95d735b576d494abaf7ff4e23ecaf9e",
       "version_major": 2,
       "version_minor": 0
      },
      "text/plain": [
       "  0%|          | 0/100 [00:00<?, ?it/s]"
      ]
     },
     "metadata": {},
     "output_type": "display_data"
    },
    {
     "data": {
      "application/vnd.jupyter.widget-view+json": {
       "model_id": "47dba161d53d4467b4471d8c55773cc6",
       "version_major": 2,
       "version_minor": 0
      },
      "text/plain": [
       "  0%|          | 0/100 [00:00<?, ?it/s]"
      ]
     },
     "metadata": {},
     "output_type": "display_data"
    },
    {
     "data": {
      "application/vnd.jupyter.widget-view+json": {
       "model_id": "377916c868394d7cb912af03759632d4",
       "version_major": 2,
       "version_minor": 0
      },
      "text/plain": [
       "  0%|          | 0/100 [00:00<?, ?it/s]"
      ]
     },
     "metadata": {},
     "output_type": "display_data"
    },
    {
     "data": {
      "application/vnd.jupyter.widget-view+json": {
       "model_id": "94f7fd70e0c64a88bacd1269fc9c5dce",
       "version_major": 2,
       "version_minor": 0
      },
      "text/plain": [
       "  0%|          | 0/100 [00:00<?, ?it/s]"
      ]
     },
     "metadata": {},
     "output_type": "display_data"
    },
    {
     "data": {
      "application/vnd.jupyter.widget-view+json": {
       "model_id": "816924d730fc4668af390b9e94ec74f2",
       "version_major": 2,
       "version_minor": 0
      },
      "text/plain": [
       "  0%|          | 0/100 [00:00<?, ?it/s]"
      ]
     },
     "metadata": {},
     "output_type": "display_data"
    },
    {
     "data": {
      "application/vnd.jupyter.widget-view+json": {
       "model_id": "74ab25e5abf04535ba4a082286890b6b",
       "version_major": 2,
       "version_minor": 0
      },
      "text/plain": [
       "  0%|          | 0/100 [00:00<?, ?it/s]"
      ]
     },
     "metadata": {},
     "output_type": "display_data"
    }
   ],
   "source": [
    "sim = TrajectorySim(circ=copy.deepcopy(circ), nm=channel)\n",
    "mag_samples = [sim.expectation_sample(op) for _ in tqdm(range(100000))]\n",
    "\n",
    "reps = 100\n",
    "sample_size_opts = np.logspace(1, 4, num=10).astype(int)\n",
    "\n",
    "noisy_mag_means = []\n",
    "noisy_mag_stds = []\n",
    "noisy_err_means = []\n",
    "noisy_err_stds = []\n",
    "for sample_size in sample_size_opts: \n",
    "    mag_errs = []\n",
    "    mag_means = []\n",
    "    for _ in tqdm(range(reps)):\n",
    "        subsample = np.random.choice(mag_samples, size=sample_size, replace=False)\n",
    "        mag_means.append(np.mean(subsample))\n",
    "        mag_errs.append(np.abs(np.mean(subsample) - noisy_exp))\n",
    "\n",
    "    noisy_mag_means.append(np.mean(mag_means))\n",
    "    noisy_mag_stds.append(np.std(mag_means))\n",
    "    noisy_err_means.append(np.mean(mag_errs))\n",
    "    noisy_err_stds.append(np.std(mag_errs))"
   ]
  },
  {
   "cell_type": "code",
   "execution_count": 34,
   "id": "71288162",
   "metadata": {},
   "outputs": [
    {
     "data": {
      "application/vnd.jupyter.widget-view+json": {
       "model_id": "64b6191f5d1945b4b099bee588f97174",
       "version_major": 2,
       "version_minor": 0
      },
      "text/plain": [
       "  0%|          | 0/100000 [00:00<?, ?it/s]"
      ]
     },
     "metadata": {},
     "output_type": "display_data"
    },
    {
     "data": {
      "application/vnd.jupyter.widget-view+json": {
       "model_id": "19ff16f7096b4a8babc91caff752e325",
       "version_major": 2,
       "version_minor": 0
      },
      "text/plain": [
       "  0%|          | 0/100 [00:00<?, ?it/s]"
      ]
     },
     "metadata": {},
     "output_type": "display_data"
    },
    {
     "data": {
      "application/vnd.jupyter.widget-view+json": {
       "model_id": "a76ebd1ef6884c86ad507a3b4a96d8d4",
       "version_major": 2,
       "version_minor": 0
      },
      "text/plain": [
       "  0%|          | 0/100 [00:00<?, ?it/s]"
      ]
     },
     "metadata": {},
     "output_type": "display_data"
    },
    {
     "data": {
      "application/vnd.jupyter.widget-view+json": {
       "model_id": "495c27e3ea5e41cebf5016078f2b2615",
       "version_major": 2,
       "version_minor": 0
      },
      "text/plain": [
       "  0%|          | 0/100 [00:00<?, ?it/s]"
      ]
     },
     "metadata": {},
     "output_type": "display_data"
    },
    {
     "data": {
      "application/vnd.jupyter.widget-view+json": {
       "model_id": "25ac1cc07eaf4b9284b45aee442abf3a",
       "version_major": 2,
       "version_minor": 0
      },
      "text/plain": [
       "  0%|          | 0/100 [00:00<?, ?it/s]"
      ]
     },
     "metadata": {},
     "output_type": "display_data"
    },
    {
     "data": {
      "application/vnd.jupyter.widget-view+json": {
       "model_id": "1e2c81918e32443380fccacd88a2c9db",
       "version_major": 2,
       "version_minor": 0
      },
      "text/plain": [
       "  0%|          | 0/100 [00:00<?, ?it/s]"
      ]
     },
     "metadata": {},
     "output_type": "display_data"
    },
    {
     "data": {
      "application/vnd.jupyter.widget-view+json": {
       "model_id": "0808c535cc8049fd8cc0a2ffdfa8d772",
       "version_major": 2,
       "version_minor": 0
      },
      "text/plain": [
       "  0%|          | 0/100 [00:00<?, ?it/s]"
      ]
     },
     "metadata": {},
     "output_type": "display_data"
    },
    {
     "data": {
      "application/vnd.jupyter.widget-view+json": {
       "model_id": "ecd69b7dd4f341b3b0c7c09b90b8966b",
       "version_major": 2,
       "version_minor": 0
      },
      "text/plain": [
       "  0%|          | 0/100 [00:00<?, ?it/s]"
      ]
     },
     "metadata": {},
     "output_type": "display_data"
    },
    {
     "data": {
      "application/vnd.jupyter.widget-view+json": {
       "model_id": "43c4365f119e452cbea98a4ca08599b8",
       "version_major": 2,
       "version_minor": 0
      },
      "text/plain": [
       "  0%|          | 0/100 [00:00<?, ?it/s]"
      ]
     },
     "metadata": {},
     "output_type": "display_data"
    },
    {
     "data": {
      "application/vnd.jupyter.widget-view+json": {
       "model_id": "789cb6dcda624b4ba5d31e58f3cd8dba",
       "version_major": 2,
       "version_minor": 0
      },
      "text/plain": [
       "  0%|          | 0/100 [00:00<?, ?it/s]"
      ]
     },
     "metadata": {},
     "output_type": "display_data"
    },
    {
     "data": {
      "application/vnd.jupyter.widget-view+json": {
       "model_id": "4f97380196574a0bb1febf353f1b338b",
       "version_major": 2,
       "version_minor": 0
      },
      "text/plain": [
       "  0%|          | 0/100 [00:00<?, ?it/s]"
      ]
     },
     "metadata": {},
     "output_type": "display_data"
    }
   ],
   "source": [
    "sim = PECSim(circ=copy.deepcopy(circ), nm=channel)\n",
    "mag_samples = [sim.expectation_sample(op) for _ in tqdm(range(100000))]\n",
    "\n",
    "reps = 100\n",
    "sample_size_opts = np.logspace(1, 4, num=10).astype(int)\n",
    "\n",
    "corrected_mag_means = []\n",
    "corrected_mag_stds = []\n",
    "corrected_err_means = []\n",
    "corrected_err_stds = []\n",
    "for sample_size in sample_size_opts: \n",
    "    mag_errs = []\n",
    "    mag_means = []\n",
    "    for _ in tqdm(range(reps)):\n",
    "        subsample = np.random.choice(mag_samples, size=sample_size, replace=False)\n",
    "        mag_means.append(np.mean(subsample))\n",
    "        mag_errs.append(np.abs(np.mean(subsample) - noiseless_exp))\n",
    "\n",
    "    corrected_mag_means.append(np.mean(mag_means))\n",
    "    corrected_mag_stds.append(np.std(mag_means))\n",
    "    corrected_err_means.append(np.mean(mag_errs))\n",
    "    corrected_err_stds.append(np.std(mag_errs))"
   ]
  },
  {
   "cell_type": "code",
   "execution_count": 42,
   "id": "bfc035d7",
   "metadata": {},
   "outputs": [
    {
     "data": {
      "image/png": "[encoded data removed]",
      "text/plain": [
       "<Figure size 640x480 with 1 Axes>"
      ]
     },
     "metadata": {},
     "output_type": "display_data"
    }
   ],
   "source": [
    "new_errs = [np.abs(nm-noiseless_exp) for nm in noisy_mag_means]\n",
    "plt.plot(sample_size_opts, new_errs)\n",
    "plt.xscale('log')"
   ]
  },
  {
   "cell_type": "code",
   "execution_count": 45,
   "id": "ec3c19e9",
   "metadata": {},
   "outputs": [
    {
     "data": {
      "text/plain": [
       "<matplotlib.legend.Legend at 0x1d602370bd0>"
      ]
     },
     "execution_count": 45,
     "metadata": {},
     "output_type": "execute_result"
    },
    {
     "data": {
      "image/png": "[encoded data removed]",
      "text/plain": [
       "<Figure size 640x480 with 1 Axes>"
      ]
     },
     "metadata": {},
     "output_type": "display_data"
    }
   ],
   "source": [
    "log_corrected_errs = np.log(corrected_err_means)\n",
    "log_errs = np.log(np.array(noisy_err_means) + 0.41)\n",
    "noisy_err_means_new = np.array(noisy_err_means) + 0.41  # Adjusting for numerical stability in log scale\n",
    "log_sizes = np.log(sample_size_opts)\n",
    "\n",
    "fit_corrected = np.polyfit(log_sizes, log_corrected_errs, 1)\n",
    "#fit_noisy = np.polyfit(log_sizes, log_errs, 1)\n",
    "fit_corrected_line = np.polyval(fit_corrected, log_sizes)\n",
    "#fit_noisy_line = np.polyval(fit_noisy, log_sizes)\n",
    "\n",
    "plt.errorbar(sample_size_opts, noisy_err_means_new, yerr=noisy_err_stds, fmt='o', label='noisy expectation error', color='C0')\n",
    "plt.errorbar(sample_size_opts, corrected_err_means, yerr=corrected_err_stds, fmt='o', label='corrected expectation error', color='C1')\n",
    "plt.plot(sample_size_opts, np.exp(fit_corrected_line), label=f\"slope: {fit_corrected[0]:.2f}\", color='C1')\n",
    "#plt.plot(sample_size_opts, np.exp(fit_noisy_line), label=f\"slope: {fit_noisy[0]:.2f}\", color='C0')\n",
    "\n",
    "plt.xscale('log')\n",
    "plt.xlabel('sample size')\n",
    "plt.ylabel('error in expectation')\n",
    "plt.yscale('log')\n",
    "plt.legend()"
   ]
  },
  {
   "cell_type": "code",
   "execution_count": null,
   "id": "8122ee4a",
   "metadata": {},
   "outputs": [],
   "source": []
  },
  {
   "cell_type": "code",
   "execution_count": 36,
   "id": "76e00a9d",
   "metadata": {},
   "outputs": [
    {
     "data": {
      "text/plain": [
       "(np.float64(4.32726536635317), np.float64(3.8861348656223123))"
      ]
     },
     "execution_count": 36,
     "metadata": {},
     "output_type": "execute_result"
    }
   ],
   "source": [
    "channel.gamma**3, corrected_err_means[0]/noisy_err_means[0]"
   ]
  },
  {
   "cell_type": "code",
   "execution_count": null,
   "id": "ce7eaaba",
   "metadata": {},
   "outputs": [],
   "source": [
    "blue: \n",
    "\n",
    "|| without PEC sampled expectation - Tr(rho_noisy * magnetization) || \n",
    "\n",
    "orange: \n",
    "\n",
    "|| PEC sampled expectation - <\\psi| M \\psi> || \n"
   ]
  },
  {
   "cell_type": "markdown",
   "id": "c06ae486",
   "metadata": {},
   "source": [
    "# Old"
   ]
  },
  {
   "cell_type": "code",
   "execution_count": 10,
   "id": "ee5aa2eb",
   "metadata": {},
   "outputs": [
    {
     "data": {
      "application/vnd.jupyter.widget-view+json": {
       "model_id": "1819e026d2524653898af6e931d11c2a",
       "version_major": 2,
       "version_minor": 0
      },
      "text/plain": [
       "  0%|          | 0/100000 [00:00<?, ?it/s]"
      ]
     },
     "metadata": {},
     "output_type": "display_data"
    },
    {
     "data": {
      "application/vnd.jupyter.widget-view+json": {
       "model_id": "c035ed6d0d7b43b0aac5508a981cbac7",
       "version_major": 2,
       "version_minor": 0
      },
      "text/plain": [
       "  0%|          | 0/100 [00:00<?, ?it/s]"
      ]
     },
     "metadata": {},
     "output_type": "display_data"
    },
    {
     "data": {
      "application/vnd.jupyter.widget-view+json": {
       "model_id": "7fe614c396064e7fb4e869db56bfd5eb",
       "version_major": 2,
       "version_minor": 0
      },
      "text/plain": [
       "  0%|          | 0/100 [00:00<?, ?it/s]"
      ]
     },
     "metadata": {},
     "output_type": "display_data"
    },
    {
     "data": {
      "application/vnd.jupyter.widget-view+json": {
       "model_id": "6beb2dfcaace4b91b14652c97ebac8c3",
       "version_major": 2,
       "version_minor": 0
      },
      "text/plain": [
       "  0%|          | 0/100 [00:00<?, ?it/s]"
      ]
     },
     "metadata": {},
     "output_type": "display_data"
    },
    {
     "data": {
      "application/vnd.jupyter.widget-view+json": {
       "model_id": "1229f4e443e94e7cb1099e5056c230a0",
       "version_major": 2,
       "version_minor": 0
      },
      "text/plain": [
       "  0%|          | 0/100 [00:00<?, ?it/s]"
      ]
     },
     "metadata": {},
     "output_type": "display_data"
    },
    {
     "data": {
      "application/vnd.jupyter.widget-view+json": {
       "model_id": "8db25f7788a94fa58cca0a1e4ed6e515",
       "version_major": 2,
       "version_minor": 0
      },
      "text/plain": [
       "  0%|          | 0/100 [00:00<?, ?it/s]"
      ]
     },
     "metadata": {},
     "output_type": "display_data"
    },
    {
     "data": {
      "application/vnd.jupyter.widget-view+json": {
       "model_id": "0071013e4ad445e88af53c76aec2042d",
       "version_major": 2,
       "version_minor": 0
      },
      "text/plain": [
       "  0%|          | 0/100 [00:00<?, ?it/s]"
      ]
     },
     "metadata": {},
     "output_type": "display_data"
    },
    {
     "data": {
      "application/vnd.jupyter.widget-view+json": {
       "model_id": "1011c078493b4e74a76c885a6a1a5673",
       "version_major": 2,
       "version_minor": 0
      },
      "text/plain": [
       "  0%|          | 0/100 [00:00<?, ?it/s]"
      ]
     },
     "metadata": {},
     "output_type": "display_data"
    },
    {
     "data": {
      "application/vnd.jupyter.widget-view+json": {
       "model_id": "309035ce6bc84e79b456b1c0ef52c4b9",
       "version_major": 2,
       "version_minor": 0
      },
      "text/plain": [
       "  0%|          | 0/100 [00:00<?, ?it/s]"
      ]
     },
     "metadata": {},
     "output_type": "display_data"
    },
    {
     "data": {
      "application/vnd.jupyter.widget-view+json": {
       "model_id": "d894003e22ea4977bf7e460268ad8d36",
       "version_major": 2,
       "version_minor": 0
      },
      "text/plain": [
       "  0%|          | 0/100 [00:00<?, ?it/s]"
      ]
     },
     "metadata": {},
     "output_type": "display_data"
    },
    {
     "data": {
      "application/vnd.jupyter.widget-view+json": {
       "model_id": "85fd056ff4b0458ea51d615a4ee8cf39",
       "version_major": 2,
       "version_minor": 0
      },
      "text/plain": [
       "  0%|          | 0/100 [00:00<?, ?it/s]"
      ]
     },
     "metadata": {},
     "output_type": "display_data"
    }
   ],
   "source": [
    "mag_samples = []\n",
    "for s in tqdm(range(100000)):\n",
    "    noise_layer = pauli_string_to_gates(channel.sample_string())\n",
    "    if len(noise_layer) == 0:\n",
    "        mag_samples.append(final_sv.conj().T @ op @ final_sv)\n",
    "    else: \n",
    "        n_circ = Circuit(noise_layer, 2)\n",
    "        sim = StatevectorSim(n_circ, init_state=final_sv)\n",
    "        sv = sim.run(progress_bar=False).reshape(2**2)\n",
    "        mag_samples.append(sv.conj().T @ op @ sv)\n",
    "\n",
    "reps = 100\n",
    "sample_size_opts = np.logspace(1, 4, num=10).astype(int)\n",
    "\n",
    "noisy_mag_means = []\n",
    "noisy_mag_stds = []\n",
    "noisy_err_means = []\n",
    "noisy_err_stds = []\n",
    "for sample_size in sample_size_opts: \n",
    "    mag_errs = []\n",
    "    mag_means = []\n",
    "    for _ in tqdm(range(reps)):\n",
    "        subsample = np.random.choice(mag_samples, size=sample_size, replace=False)\n",
    "        mag_means.append(np.mean(subsample))\n",
    "        mag_errs.append(np.abs(np.mean(subsample) - noisy_exp))\n",
    "\n",
    "    noisy_mag_means.append(np.mean(mag_means))\n",
    "    noisy_mag_stds.append(np.std(mag_means))\n",
    "    noisy_err_means.append(np.mean(mag_errs))\n",
    "    noisy_err_stds.append(np.std(mag_errs))"
   ]
  },
  {
   "cell_type": "code",
   "execution_count": 141,
   "id": "c955a6d6",
   "metadata": {},
   "outputs": [
    {
     "data": {
      "application/vnd.jupyter.widget-view+json": {
       "model_id": "61fed533db924a9a91ccc09e4aad5b29",
       "version_major": 2,
       "version_minor": 0
      },
      "text/plain": [
       "  0%|          | 0/500000 [00:00<?, ?it/s]"
      ]
     },
     "metadata": {},
     "output_type": "display_data"
    },
    {
     "data": {
      "application/vnd.jupyter.widget-view+json": {
       "model_id": "1c8eab8745c3499c8d6fae6686690a28",
       "version_major": 2,
       "version_minor": 0
      },
      "text/plain": [
       "  0%|          | 0/100 [00:00<?, ?it/s]"
      ]
     },
     "metadata": {},
     "output_type": "display_data"
    },
    {
     "data": {
      "application/vnd.jupyter.widget-view+json": {
       "model_id": "5ecca324477d422d999eb0c68e7b9957",
       "version_major": 2,
       "version_minor": 0
      },
      "text/plain": [
       "  0%|          | 0/100 [00:00<?, ?it/s]"
      ]
     },
     "metadata": {},
     "output_type": "display_data"
    },
    {
     "data": {
      "application/vnd.jupyter.widget-view+json": {
       "model_id": "a57b312eb1834ea3afb6f5caa22fb56a",
       "version_major": 2,
       "version_minor": 0
      },
      "text/plain": [
       "  0%|          | 0/100 [00:00<?, ?it/s]"
      ]
     },
     "metadata": {},
     "output_type": "display_data"
    },
    {
     "data": {
      "application/vnd.jupyter.widget-view+json": {
       "model_id": "15b08484a1c34a5e8bd6311fcc41419b",
       "version_major": 2,
       "version_minor": 0
      },
      "text/plain": [
       "  0%|          | 0/100 [00:00<?, ?it/s]"
      ]
     },
     "metadata": {},
     "output_type": "display_data"
    },
    {
     "data": {
      "application/vnd.jupyter.widget-view+json": {
       "model_id": "ef9bb6ea154b4f98bf0bd41aedc134ca",
       "version_major": 2,
       "version_minor": 0
      },
      "text/plain": [
       "  0%|          | 0/100 [00:00<?, ?it/s]"
      ]
     },
     "metadata": {},
     "output_type": "display_data"
    },
    {
     "data": {
      "application/vnd.jupyter.widget-view+json": {
       "model_id": "95739370a8784081a2ca95e7c639da7d",
       "version_major": 2,
       "version_minor": 0
      },
      "text/plain": [
       "  0%|          | 0/100 [00:00<?, ?it/s]"
      ]
     },
     "metadata": {},
     "output_type": "display_data"
    },
    {
     "data": {
      "application/vnd.jupyter.widget-view+json": {
       "model_id": "fa540e5086d6496e8c476aff6fa029d0",
       "version_major": 2,
       "version_minor": 0
      },
      "text/plain": [
       "  0%|          | 0/100 [00:00<?, ?it/s]"
      ]
     },
     "metadata": {},
     "output_type": "display_data"
    },
    {
     "data": {
      "application/vnd.jupyter.widget-view+json": {
       "model_id": "7a6cdc6ff44c4e68b4536377d458dde3",
       "version_major": 2,
       "version_minor": 0
      },
      "text/plain": [
       "  0%|          | 0/100 [00:00<?, ?it/s]"
      ]
     },
     "metadata": {},
     "output_type": "display_data"
    },
    {
     "data": {
      "application/vnd.jupyter.widget-view+json": {
       "model_id": "962d3bb74ddf4396bfe17e6446e9805e",
       "version_major": 2,
       "version_minor": 0
      },
      "text/plain": [
       "  0%|          | 0/100 [00:00<?, ?it/s]"
      ]
     },
     "metadata": {},
     "output_type": "display_data"
    },
    {
     "data": {
      "application/vnd.jupyter.widget-view+json": {
       "model_id": "af3cf526022a4e3da9f01d7a0f4831f6",
       "version_major": 2,
       "version_minor": 0
      },
      "text/plain": [
       "  0%|          | 0/100 [00:00<?, ?it/s]"
      ]
     },
     "metadata": {},
     "output_type": "display_data"
    }
   ],
   "source": [
    "gamma = np.exp(2*sum(channel.lindblad_coefficients))\n",
    "mag_samples = []\n",
    "for s in tqdm(range(500000)):\n",
    "    noise_layer = pauli_string_to_gates(channel.sample_string())\n",
    "    correction_layer = pauli_string_to_gates(channel.sample_string())\n",
    "    new_layer = noise_layer + correction_layer\n",
    "    pre_fac = gamma * (-1)**(len(correction_layer) != 0)\n",
    "    if len(new_layer) == 0:\n",
    "        m = final_sv.conj().T @ op @ final_sv\n",
    "    else: \n",
    "        n_circ = Circuit(new_layer, 2)\n",
    "        sim = StatevectorSim(n_circ, init_state=final_sv)\n",
    "        sv = sim.run(progress_bar=False).reshape(2**2)\n",
    "        m = sv.conj().T @ op @ sv\n",
    "\n",
    "    mag_samples.append(pre_fac * m)\n",
    "\n",
    "reps = 100\n",
    "sample_size_opts = np.logspace(1, 4, num=10).astype(int)\n",
    "\n",
    "corrected_mag_means = []\n",
    "corrected_mag_stds = []\n",
    "corrected_err_means = []\n",
    "corrected_err_stds = []\n",
    "for sample_size in sample_size_opts: \n",
    "    mag_errs = []\n",
    "    mag_means = []\n",
    "    for _ in tqdm(range(reps)):\n",
    "        subsample = np.random.choice(mag_samples, size=sample_size, replace=False)\n",
    "        mag_means.append(np.mean(subsample))\n",
    "        mag_errs.append(np.abs(np.mean(subsample) - noiseless_exp))\n",
    "\n",
    "    corrected_mag_means.append(np.mean(mag_means))\n",
    "    corrected_mag_stds.append(np.std(mag_means))\n",
    "    corrected_err_means.append(np.mean(mag_errs))\n",
    "    corrected_err_stds.append(np.std(mag_errs))"
   ]
  },
  {
   "cell_type": "code",
   "execution_count": 142,
   "id": "a3180a72",
   "metadata": {},
   "outputs": [
    {
     "data": {
      "text/plain": [
       "<matplotlib.legend.Legend at 0x24a578861d0>"
      ]
     },
     "execution_count": 142,
     "metadata": {},
     "output_type": "execute_result"
    },
    {
     "data": {
      "image/png": "[encoded data removed]",
      "text/plain": [
       "<Figure size 640x480 with 1 Axes>"
      ]
     },
     "metadata": {},
     "output_type": "display_data"
    }
   ],
   "source": [
    "plt.axhline(y=noisy_exp, linestyle='--', label='noisy magnetization', color=\"C0\")\n",
    "plt.errorbar(sample_size_opts, np.abs(noisy_mag_means), yerr=noisy_mag_stds, fmt='o', label='sampled noisy magnetization', color=\"C0\")  \n",
    "plt.axhline(y=noiseless_exp, linestyle='--', label='noiseless magnetization', color=\"C1\")\n",
    "plt.errorbar(sample_size_opts, np.abs(corrected_mag_means), yerr=corrected_mag_stds, fmt='o', label='sampled PEC magnetization', color=\"C1\")\n",
    "plt.yscale('log')\n",
    "plt.xscale('log')\n",
    "plt.xlabel('sample size')\n",
    "plt.ylabel('magnetization')\n",
    "plt.legend()"
   ]
  },
  {
   "cell_type": "code",
   "execution_count": 143,
   "id": "e7cb830f",
   "metadata": {},
   "outputs": [
    {
     "data": {
      "text/plain": [
       "<matplotlib.legend.Legend at 0x24a5aa99ad0>"
      ]
     },
     "execution_count": 143,
     "metadata": {},
     "output_type": "execute_result"
    },
    {
     "data": {
      "image/png": "[encoded data removed]",
      "text/plain": [
       "<Figure size 640x480 with 1 Axes>"
      ]
     },
     "metadata": {},
     "output_type": "display_data"
    }
   ],
   "source": [
    "log_corrected_errs = np.log(corrected_err_means)\n",
    "log_errs = np.log(noisy_err_means)\n",
    "log_sizes = np.log(sample_size_opts)\n",
    "\n",
    "fit_corrected = np.polyfit(log_sizes, log_corrected_errs, 1)\n",
    "fit_noisy = np.polyfit(log_sizes, log_errs, 1)\n",
    "fit_corrected_line = np.polyval(fit_corrected, log_sizes)\n",
    "fit_noisy_line = np.polyval(fit_noisy, log_sizes)\n",
    "\n",
    "plt.errorbar(sample_size_opts, noisy_err_means, yerr=noisy_err_stds, fmt='o', label='noisy expectation error', color='C0')\n",
    "plt.errorbar(sample_size_opts, corrected_err_means, yerr=corrected_err_stds, fmt='o', label='corrected expectation error', color='C1')\n",
    "plt.plot(sample_size_opts, np.exp(fit_corrected_line), label=f\"slope: {fit_corrected[0]:.2f}\", color='C1')\n",
    "plt.plot(sample_size_opts, np.exp(fit_noisy_line), label=f\"slope: {fit_noisy[0]:.2f}\", color='C0')\n",
    "\n",
    "plt.xscale('log')\n",
    "plt.xlabel('sample size')\n",
    "plt.ylabel('error in expectation')\n",
    "plt.yscale('log')\n",
    "plt.legend()"
   ]
  },
  {
   "cell_type": "code",
   "execution_count": 144,
   "id": "75388424",
   "metadata": {},
   "outputs": [
    {
     "data": {
      "text/plain": [
       "(np.float64(1.1161699888966237), np.float64(1.12201788249114))"
      ]
     },
     "execution_count": 144,
     "metadata": {},
     "output_type": "execute_result"
    }
   ],
   "source": [
    "gamma, corrected_err_means[0]/noisy_err_means[0] "
   ]
  },
  {
   "cell_type": "code",
   "execution_count": 34,
   "id": "ab1bfed2",
   "metadata": {},
   "outputs": [
    {
     "data": {
      "text/plain": [
       "np.float64(0.046997005094357225)"
      ]
     },
     "execution_count": 34,
     "metadata": {},
     "output_type": "execute_result"
    }
   ],
   "source": [
    "strength = 0.3\n",
    "coeffs = np.random.rand(2) * strength\n",
    "strings = ['xx', 'yx']\n",
    "channel = PauliLindbladNoise(strings, coeffs)\n",
    "sim = DensityMatrixSim(circ=copy.deepcopy(circ), nm=channel)\n",
    "sim.run(progress_bar=False)\n",
    "dm = sim.get_density_matrix()\n",
    "noisy_exp = np.trace(op @ dm).real\n",
    "noisy_exp"
   ]
  },
  {
   "cell_type": "code",
   "execution_count": 35,
   "id": "9d62fd37",
   "metadata": {},
   "outputs": [
    {
     "data": {
      "application/vnd.jupyter.widget-view+json": {
       "model_id": "7af20dc610cd4a9a9059e6733e4cee9d",
       "version_major": 2,
       "version_minor": 0
      },
      "text/plain": [
       "  0%|          | 0/100000 [00:00<?, ?it/s]"
      ]
     },
     "metadata": {},
     "output_type": "display_data"
    },
    {
     "data": {
      "application/vnd.jupyter.widget-view+json": {
       "model_id": "b5236fef4ed24f8099ed65c2ff973831",
       "version_major": 2,
       "version_minor": 0
      },
      "text/plain": [
       "  0%|          | 0/100 [00:00<?, ?it/s]"
      ]
     },
     "metadata": {},
     "output_type": "display_data"
    },
    {
     "data": {
      "application/vnd.jupyter.widget-view+json": {
       "model_id": "636adc55bd9142fd8fd711e94160a8b3",
       "version_major": 2,
       "version_minor": 0
      },
      "text/plain": [
       "  0%|          | 0/100 [00:00<?, ?it/s]"
      ]
     },
     "metadata": {},
     "output_type": "display_data"
    },
    {
     "data": {
      "application/vnd.jupyter.widget-view+json": {
       "model_id": "290cb0c8f1d84064904ca88c290e4873",
       "version_major": 2,
       "version_minor": 0
      },
      "text/plain": [
       "  0%|          | 0/100 [00:00<?, ?it/s]"
      ]
     },
     "metadata": {},
     "output_type": "display_data"
    },
    {
     "data": {
      "application/vnd.jupyter.widget-view+json": {
       "model_id": "8b2acc8367f94c478ea6f14fca0226ce",
       "version_major": 2,
       "version_minor": 0
      },
      "text/plain": [
       "  0%|          | 0/100 [00:00<?, ?it/s]"
      ]
     },
     "metadata": {},
     "output_type": "display_data"
    },
    {
     "data": {
      "application/vnd.jupyter.widget-view+json": {
       "model_id": "0ede11901e1a4c4186477813683eecf9",
       "version_major": 2,
       "version_minor": 0
      },
      "text/plain": [
       "  0%|          | 0/100 [00:00<?, ?it/s]"
      ]
     },
     "metadata": {},
     "output_type": "display_data"
    },
    {
     "data": {
      "application/vnd.jupyter.widget-view+json": {
       "model_id": "58619ca6bfe04b0dada56a0e3b23223c",
       "version_major": 2,
       "version_minor": 0
      },
      "text/plain": [
       "  0%|          | 0/100 [00:00<?, ?it/s]"
      ]
     },
     "metadata": {},
     "output_type": "display_data"
    },
    {
     "data": {
      "application/vnd.jupyter.widget-view+json": {
       "model_id": "385a6fb3a39146c29721644461804ee7",
       "version_major": 2,
       "version_minor": 0
      },
      "text/plain": [
       "  0%|          | 0/100 [00:00<?, ?it/s]"
      ]
     },
     "metadata": {},
     "output_type": "display_data"
    },
    {
     "data": {
      "application/vnd.jupyter.widget-view+json": {
       "model_id": "971621851ea4457c9f95ef13d545991d",
       "version_major": 2,
       "version_minor": 0
      },
      "text/plain": [
       "  0%|          | 0/100 [00:00<?, ?it/s]"
      ]
     },
     "metadata": {},
     "output_type": "display_data"
    },
    {
     "data": {
      "application/vnd.jupyter.widget-view+json": {
       "model_id": "3fe4a6ace0e34132980c60814e4d0f63",
       "version_major": 2,
       "version_minor": 0
      },
      "text/plain": [
       "  0%|          | 0/100 [00:00<?, ?it/s]"
      ]
     },
     "metadata": {},
     "output_type": "display_data"
    },
    {
     "data": {
      "application/vnd.jupyter.widget-view+json": {
       "model_id": "d0a941e615be4c478b0adb7e9f05f539",
       "version_major": 2,
       "version_minor": 0
      },
      "text/plain": [
       "  0%|          | 0/100 [00:00<?, ?it/s]"
      ]
     },
     "metadata": {},
     "output_type": "display_data"
    }
   ],
   "source": [
    "mag_samples = []\n",
    "for s in tqdm(range(100000)):\n",
    "    noise_layer = pauli_string_to_gates(channel.sample_string())\n",
    "    if len(noise_layer) == 0:\n",
    "        mag_samples.append(final_sv.conj().T @ op @ final_sv)\n",
    "    else: \n",
    "        n_circ = Circuit(noise_layer, 2)\n",
    "        sim = StatevectorSim(n_circ, init_state=final_sv)\n",
    "        sv = sim.run(progress_bar=False).reshape(2**2)\n",
    "        mag_samples.append(sv.conj().T @ op @ sv)\n",
    "\n",
    "reps = 100\n",
    "sample_size_opts = np.logspace(1, 4, num=10).astype(int)\n",
    "\n",
    "noisy_mag_means = []\n",
    "noisy_mag_stds = []\n",
    "noisy_err_means = []\n",
    "noisy_err_stds = []\n",
    "for sample_size in sample_size_opts: \n",
    "    mag_errs = []\n",
    "    mag_means = []\n",
    "    for _ in tqdm(range(reps)):\n",
    "        subsample = np.random.choice(mag_samples, size=sample_size, replace=False)\n",
    "        mag_means.append(np.mean(subsample))\n",
    "        mag_errs.append(np.abs(np.mean(subsample) - noisy_exp))\n",
    "\n",
    "    noisy_mag_means.append(np.mean(mag_means))\n",
    "    noisy_mag_stds.append(np.std(mag_means))\n",
    "    noisy_err_means.append(np.mean(mag_errs))\n",
    "    noisy_err_stds.append(np.std(mag_errs))"
   ]
  },
  {
   "cell_type": "code",
   "execution_count": null,
   "id": "52ca4682",
   "metadata": {},
   "outputs": [],
   "source": []
  }
 ],
 "metadata": {
  "kernelspec": {
   "display_name": "qaravan",
   "language": "python",
   "name": "python3"
  },
  "language_info": {
   "codemirror_mode": {
    "name": "ipython",
    "version": 3
   },
   "file_extension": ".py",
   "mimetype": "text/x-python",
   "name": "python",
   "nbconvert_exporter": "python",
   "pygments_lexer": "ipython3",
   "version": "3.11.0"
  }
 },
 "nbformat": 4,
 "nbformat_minor": 5
}
