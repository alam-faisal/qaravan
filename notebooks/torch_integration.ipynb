{
 "cells": [
  {
   "cell_type": "code",
   "execution_count": 1,
   "id": "0fb7015b",
   "metadata": {},
   "outputs": [],
   "source": [
    "from qaravan.core import *\n",
    "from qaravan.tensorQ import *\n",
    "import torch "
   ]
  }
 ],
 "metadata": {
  "kernelspec": {
   "display_name": "qaravan",
   "language": "python",
   "name": "python3"
  },
  "language_info": {
   "codemirror_mode": {
    "name": "ipython",
    "version": 3
   },
   "file_extension": ".py",
   "mimetype": "text/x-python",
   "name": "python",
   "nbconvert_exporter": "python",
   "pygments_lexer": "ipython3",
   "version": "3.11.0"
  }
 },
 "nbformat": 4,
 "nbformat_minor": 5
}
