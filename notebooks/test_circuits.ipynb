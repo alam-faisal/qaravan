{
 "cells": [
  {
   "cell_type": "code",
   "execution_count": 1,
   "metadata": {},
   "outputs": [],
   "source": [
    "from qaravan.core import *"
   ]
  },
  {
   "cell_type": "code",
   "execution_count": 6,
   "metadata": {},
   "outputs": [
    {
     "name": "stdout",
     "output_type": "stream",
     "text": [
      "H gate on site(s) [0] \n",
      "Idling on site(s) [0] for time 1; dynamical decoupling: False \n",
      "Idling on site(s) [1] for time 1; dynamical decoupling: True \n",
      "Idling on site(s) [2] for time 1; dynamical decoupling: True \n",
      "\n",
      "bottom heavy CNOT2 gate on site(s) [0, 1] \n",
      "Idling on site(s) [0] for time 10; dynamical decoupling: False \n",
      "Idling on site(s) [1] for time 10; dynamical decoupling: False \n",
      "Idling on site(s) [2] for time 10; dynamical decoupling: True \n",
      "\n",
      "bottom heavy CNOT2 gate on site(s) [1, 2] \n",
      "Idling on site(s) [0] for time 10; dynamical decoupling: True \n",
      "Idling on site(s) [1] for time 10; dynamical decoupling: False \n",
      "Idling on site(s) [2] for time 10; dynamical decoupling: False\n"
     ]
    }
   ],
   "source": [
    "# testing Circuit's add_noise() method\n",
    "\n",
    "n = 3\n",
    "gate_list = [H(0), CNOT([1,0], n), CNOT([2,1], n)]\n",
    "circ = Circuit(gate_list, n)\n",
    "\n",
    "t1 = 100\n",
    "t2 = 75\n",
    "one_qubit_time = 1\n",
    "two_qubit_time = 10\n",
    "\n",
    "nm = QubitNoise(t1, t2, one_qubit_time, two_qubit_time, coupling=0.5)\n",
    "circ = circ.build(nm=nm)\n",
    "print(circ)"
   ]
  },
  {
   "cell_type": "code",
   "execution_count": null,
   "metadata": {},
   "outputs": [],
   "source": []
  }
 ],
 "metadata": {
  "kernelspec": {
   "display_name": "qaravan",
   "language": "python",
   "name": "python3"
  },
  "language_info": {
   "codemirror_mode": {
    "name": "ipython",
    "version": 3
   },
   "file_extension": ".py",
   "mimetype": "text/x-python",
   "name": "python",
   "nbconvert_exporter": "python",
   "pygments_lexer": "ipython3",
   "version": "3.11.0"
  }
 },
 "nbformat": 4,
 "nbformat_minor": 2
}
