{
 "cells": [
  {
   "cell_type": "code",
   "execution_count": 1,
   "metadata": {},
   "outputs": [],
   "source": [
    "from qaravan.core import * \n",
    "from qaravan.tensorQ import *"
   ]
  },
  {
   "cell_type": "code",
   "execution_count": 2,
   "metadata": {},
   "outputs": [
    {
     "data": {
      "text/plain": [
       "array([[1., 0.],\n",
       "       [0., 1.]])"
      ]
     },
     "execution_count": 2,
     "metadata": {},
     "output_type": "execute_result"
    }
   ],
   "source": [
    "# testing QubitNoise\n",
    "\n",
    "t1 = 1000\n",
    "t2 = 1000\n",
    "one_qubit_time = 10\n",
    "two_qubit_time = 100\n",
    "\n",
    "nm = QubitNoise(t1, t2, one_qubit_time, two_qubit_time)\n",
    "kraus_list = nm.get_kraus(time=two_qubit_time) \n",
    "\n",
    "sum([k.conj().T @ k for k in kraus_list])"
   ]
  },
  {
   "cell_type": "code",
   "execution_count": 12,
   "metadata": {},
   "outputs": [
    {
     "data": {
      "text/plain": [
       "array([[1.+0.j, 0.+0.j, 0.+0.j, 0.+0.j],\n",
       "       [0.+0.j, 1.+0.j, 0.+0.j, 0.+0.j],\n",
       "       [0.+0.j, 0.+0.j, 1.+0.j, 0.+0.j],\n",
       "       [0.+0.j, 0.+0.j, 0.+0.j, 1.+0.j]])"
      ]
     },
     "execution_count": 12,
     "metadata": {},
     "output_type": "execute_result"
    }
   ],
   "source": [
    "# testing PauliNoise\n",
    "\n",
    "strings = ['ii', 'ix', 'zy', 'zz']\n",
    "probs = [0.9, 0.04, 0.03, 0.03]\n",
    "nm = PauliNoise(strings, probs)\n",
    "kraus_list = nm.get_kraus()\n",
    "sum([k.conj().T @ k for k in kraus_list])"
   ]
  },
  {
   "cell_type": "code",
   "execution_count": 20,
   "metadata": {},
   "outputs": [
    {
     "name": "stdout",
     "output_type": "stream",
     "text": [
      "{'ii': np.float64(1.0)}\n"
     ]
    }
   ],
   "source": [
    "strings = ['ii', 'xx', 'yx']\n",
    "probs = [0.3, 0.4, 0.3]\n",
    "nm = PauliNoise(strings, probs)\n",
    "\n",
    "nm_inv = nm.pinv()\n",
    "nm_mod = nm_inv.compose(nm)\n",
    "print(nm_mod)"
   ]
  },
  {
   "cell_type": "code",
   "execution_count": 21,
   "metadata": {},
   "outputs": [
    {
     "name": "stdout",
     "output_type": "stream",
     "text": [
      "2.220446049250313e-16\n"
     ]
    }
   ],
   "source": [
    "ptm     = nm.ptm()                 # diagonal matrix F\n",
    "ptm_inv = nm_inv.ptm()             # F^{-1}\n",
    "print(np.max(np.abs(ptm_inv @ ptm - np.eye(ptm.shape[0]))))"
   ]
  },
  {
   "cell_type": "code",
   "execution_count": 22,
   "metadata": {},
   "outputs": [
    {
     "name": "stdout",
     "output_type": "stream",
     "text": [
      "3.15\n"
     ]
    }
   ],
   "source": [
    "S      = nm.get_superop()\n",
    "S_inv  = nm_inv.get_superop()\n",
    "print(np.max(np.abs(S_inv @ S - np.eye(S.shape[0]))))"
   ]
  },
  {
   "cell_type": "code",
   "execution_count": null,
   "metadata": {},
   "outputs": [],
   "source": []
  },
  {
   "cell_type": "code",
   "execution_count": null,
   "metadata": {},
   "outputs": [],
   "source": []
  },
  {
   "cell_type": "code",
   "execution_count": 9,
   "metadata": {},
   "outputs": [
    {
     "name": "stdout",
     "output_type": "stream",
     "text": [
      "[np.float64(0.22559418195298675), np.float64(0.37670151802919677)]\n"
     ]
    },
    {
     "data": {
      "text/plain": [
       "True"
      ]
     },
     "execution_count": 9,
     "metadata": {},
     "output_type": "execute_result"
    }
   ],
   "source": [
    "# testing PauliLindbladNoise\n",
    "\n",
    "p1 = 0.3\n",
    "p2 = 0.7\n",
    "\n",
    "strings = ['xx', 'yx']\n",
    "probs = [p1, p2]\n",
    "channel = PauliLindbladNoise(strings, probs)\n",
    "superop = channel.get_superop().reshape([2]*8)\n",
    "print(channel.rates)\n",
    "\n",
    "dm = random_dm(2)\n",
    "state = dm.reshape([2]*4)\n",
    "gate_indices, state_indices = generate_gate_indices([0,1], 2), generate_state_indices([0,1], 2)\n",
    "new_state = ncon((superop, state), (gate_indices, state_indices))\n",
    "new_dm = new_state.reshape(4,4)\n",
    "\n",
    "r = channel.rates\n",
    "P0, r0 = embed_operator(2, [0,1], [pauli_mapping[s] for s in strings[0]], dense=True), channel.rates[0]\n",
    "P1, r1 = embed_operator(2, [0,1], [pauli_mapping[s] for s in strings[1]], dense=True), channel.rates[1]\n",
    "\n",
    "dm_a = (1-r0)*dm + r0*P0 @ dm @ P0.T.conj()\n",
    "dm_b = (1-r1)*dm_a + r1*P1 @ dm_a @ P1.T.conj()\n",
    "np.allclose(dm_b, new_dm)"
   ]
  },
  {
   "cell_type": "code",
   "execution_count": null,
   "metadata": {},
   "outputs": [
    {
     "name": "stdout",
     "output_type": "stream",
     "text": [
      "[np.float64(-1.5275999834223373), np.float64(-0.41105940019525444)]\n"
     ]
    },
    {
     "data": {
      "text/plain": [
       "False"
      ]
     },
     "execution_count": 11,
     "metadata": {},
     "output_type": "execute_result"
    }
   ],
   "source": [
    "inv_channel = PauliLindbladNoise(strings, [-p for p in probs])\n",
    "superop = inv_channel.get_superop().reshape([2]*8)\n",
    "print(inv_channel.rates)\n",
    "\n",
    "corrected_state = ncon((superop, new_state), (gate_indices, state_indices))\n",
    "corrected_dm = corrected_state.reshape(4,4)\n",
    "np.allclose(corrected_dm, dm)"
   ]
  },
  {
   "cell_type": "code",
   "execution_count": null,
   "metadata": {},
   "outputs": [],
   "source": []
  },
  {
   "cell_type": "code",
   "execution_count": null,
   "metadata": {},
   "outputs": [],
   "source": []
  },
  {
   "cell_type": "code",
   "execution_count": 9,
   "metadata": {},
   "outputs": [
    {
     "data": {
      "text/plain": [
       "False"
      ]
     },
     "execution_count": 9,
     "metadata": {},
     "output_type": "execute_result"
    }
   ],
   "source": [
    "temp_dm = np.zeros((4,4), dtype=complex)\n",
    "for k in inv_channel.get_kraus_for_string(0): \n",
    "    temp_dm += k @ new_dm @ k.T.conj()\n",
    "\n",
    "temp_dm2 = np.zeros((4,4), dtype=complex)\n",
    "for k in inv_channel.get_kraus_for_string(1):\n",
    "    temp_dm2 += k @ temp_dm @ k.T.conj()\n",
    "\n",
    "np.allclose(temp_dm2, dm)"
   ]
  },
  {
   "cell_type": "code",
   "execution_count": null,
   "metadata": {},
   "outputs": [],
   "source": []
  }
 ],
 "metadata": {
  "kernelspec": {
   "display_name": "qaravan",
   "language": "python",
   "name": "python3"
  },
  "language_info": {
   "codemirror_mode": {
    "name": "ipython",
    "version": 3
   },
   "file_extension": ".py",
   "mimetype": "text/x-python",
   "name": "python",
   "nbconvert_exporter": "python",
   "pygments_lexer": "ipython3",
   "version": "3.11.0"
  }
 },
 "nbformat": 4,
 "nbformat_minor": 2
}
