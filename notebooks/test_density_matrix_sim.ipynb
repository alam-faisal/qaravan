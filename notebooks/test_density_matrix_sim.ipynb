{
 "cells": [
  {
   "cell_type": "code",
   "execution_count": 2,
   "metadata": {},
   "outputs": [],
   "source": [
    "from qaravan.tensorQ import *\n",
    "from qaravan.core import *"
   ]
  },
  {
   "cell_type": "markdown",
   "metadata": {},
   "source": [
    "# Testing thermal noise simulation "
   ]
  },
  {
   "cell_type": "code",
   "execution_count": 2,
   "metadata": {},
   "outputs": [],
   "source": [
    "t1 = 1000\n",
    "t2 = 1000\n",
    "one_qubit_time = 1\n",
    "two_qubit_time = 5\n",
    "nm = QubitNoise(t1, t2, one_qubit_time, two_qubit_time)"
   ]
  },
  {
   "cell_type": "code",
   "execution_count": 3,
   "metadata": {},
   "outputs": [
    {
     "name": "stdout",
     "output_type": "stream",
     "text": [
      "H gate on site(s) [0] \n",
      "bottom heavy CNOT2 gate on site(s) [0, 1] \n",
      "bottom heavy CNOT2 gate on site(s) [1, 2]\n"
     ]
    }
   ],
   "source": [
    "gate_list = [H(0), CNOT([1,0], 3), CNOT([2,1], 3)]\n",
    "circ = Circuit(gate_list, 3)\n",
    "print(circ)"
   ]
  },
  {
   "cell_type": "code",
   "execution_count": null,
   "metadata": {},
   "outputs": [
    {
     "name": "stderr",
     "output_type": "stream",
     "text": [
      "100%|██████████| 3/3 [00:00<?, ?it/s]"
     ]
    },
    {
     "name": "stdout",
     "output_type": "stream",
     "text": [
      "0.9624 * (-0.7121|000⟩ + -0.7020|111⟩)\n",
      " 0.0253 * (-0.7020|000⟩ + 0.7121|111⟩)\n",
      " 0.0049 * (1.0000|011⟩)\n",
      " 0.0025 * (1.0000|100⟩)\n",
      " 0.0024 * (1.0000|110⟩)\n",
      " 0.0024 * (1.0000|101⟩)\n"
     ]
    },
    {
     "name": "stderr",
     "output_type": "stream",
     "text": [
      "\n"
     ]
    }
   ],
   "source": [
    "sim = DensityMatrixSim(circ, nm=nm)\n",
    "sim.run()\n",
    "print(sim)  # dominant term should be Bell pair with some coherent error"
   ]
  },
  {
   "cell_type": "code",
   "execution_count": null,
   "metadata": {},
   "outputs": [
    {
     "data": {
      "text/plain": [
       "np.float64(0.020609303627304454)"
      ]
     },
     "execution_count": 5,
     "metadata": {},
     "output_type": "execute_result"
    }
   ],
   "source": [
    "local_ops = [pauli_Z, pauli_Z, pauli_Z]\n",
    "sim.local_expectation(local_ops) # should be close to zero depending on the noise"
   ]
  },
  {
   "cell_type": "code",
   "execution_count": null,
   "metadata": {},
   "outputs": [
    {
     "data": {
      "text/plain": [
       "np.float64(0.9369488105936169)"
      ]
     },
     "execution_count": 6,
     "metadata": {},
     "output_type": "execute_result"
    }
   ],
   "source": [
    "local_ops = [pauli_X, pauli_X, pauli_X]\n",
    "sim.local_expectation(local_ops) # should be close to one depending on the noise"
   ]
  },
  {
   "cell_type": "markdown",
   "metadata": {},
   "source": [
    "# Testing Pauli noise"
   ]
  },
  {
   "cell_type": "code",
   "execution_count": null,
   "metadata": {},
   "outputs": [
    {
     "name": "stderr",
     "output_type": "stream",
     "text": [
      "100%|██████████| 3/3 [00:00<00:00, 92.60it/s]"
     ]
    },
    {
     "name": "stdout",
     "output_type": "stream",
     "text": [
      "0.7701 * (-0.7071+0.0000j|000⟩ + -0.7071+0.0000j|111⟩)\n",
      " 0.0621 * (0.7071+0.0000j|001⟩ + 0.7071+0.0000j|110⟩)\n",
      " 0.0443 * (-0.7071+0.0000j|010⟩ + 0.7071+0.0000j|101⟩)\n",
      " 0.0432 * (0.7071+0.0000j|010⟩ + 0.7071+0.0000j|101⟩)\n",
      " 0.0296 * (-0.7071+0.0000j|011⟩ + -0.7071+0.0000j|100⟩)\n",
      " 0.0295 * (-0.7071+0.0000j|011⟩ + 0.7071+0.0000j|100⟩)\n",
      " 0.0184 * (-0.7071+0.0000j|000⟩ + 0.7071+0.0000j|111⟩)\n",
      " 0.0028 * (-0.7071+0.0000j|001⟩ + 0.7071+0.0000j|110⟩)\n"
     ]
    },
    {
     "name": "stderr",
     "output_type": "stream",
     "text": [
      "\n"
     ]
    }
   ],
   "source": [
    "strings = ['iii', 'xxx', 'yyy', 'zyz']\n",
    "probs = [0.9, 0.05, 0.02, 0.03]\n",
    "nm = PauliNoise(strings, probs)\n",
    "\n",
    "sim = DensityMatrixSim(circ, nm=nm)\n",
    "sim.run()\n",
    "print(sim) # dominant term should be Bell pair with NO coherent error "
   ]
  },
  {
   "cell_type": "code",
   "execution_count": null,
   "metadata": {},
   "outputs": [
    {
     "data": {
      "text/plain": [
       "np.complex128(0.9999999999999996+0j)"
      ]
     },
     "execution_count": 27,
     "metadata": {},
     "output_type": "execute_result"
    }
   ],
   "source": [
    "dm = sim.get_density_matrix()\n",
    "np.trace(dm) # trace should be 1 up to machine precision "
   ]
  },
  {
   "cell_type": "code",
   "execution_count": null,
   "metadata": {},
   "outputs": [
    {
     "data": {
      "text/plain": [
       "np.float64(0.0)"
      ]
     },
     "execution_count": 28,
     "metadata": {},
     "output_type": "execute_result"
    }
   ],
   "source": [
    "local_ops = [pauli_Z, pauli_Z, pauli_Z]\n",
    "sim.local_expectation(local_ops) # should be exactly zero (no coherent error)"
   ]
  },
  {
   "cell_type": "code",
   "execution_count": null,
   "metadata": {},
   "outputs": [
    {
     "data": {
      "text/plain": [
       "np.float64(0.8099999999999995)"
      ]
     },
     "execution_count": 29,
     "metadata": {},
     "output_type": "execute_result"
    }
   ],
   "source": [
    "local_ops = [pauli_X, pauli_X, pauli_X]\n",
    "sim.local_expectation(local_ops) # hould be close to one depending on the noise"
   ]
  },
  {
   "cell_type": "code",
   "execution_count": null,
   "metadata": {},
   "outputs": [],
   "source": []
  },
  {
   "cell_type": "markdown",
   "metadata": {},
   "source": [
    "# Does fidelity depend mostly on depth?"
   ]
  },
  {
   "cell_type": "code",
   "execution_count": 10,
   "metadata": {},
   "outputs": [],
   "source": [
    "one_time = 40/1000\n",
    "two_time = 500/1000\n",
    "t1 = 10\n",
    "t2 = 7.5\n",
    "\n",
    "nm = QubitNoise(t1, t2, one_time, two_time)\n",
    "n = 4\n",
    "num_instances = 10 \n",
    "\n",
    "avgs = []\n",
    "vars = []\n",
    "for depth in range(1,10):\n",
    "    fid_samples = []\n",
    "    for instance in range(num_instances):\n",
    "        circ = random_circ(n, depth)\n",
    "        exact_sim = DensityMatrixSim(circ, nm=None)\n",
    "        exact_sim.run(progress_bar=False)\n",
    "        exact_dm = exact_sim.get_density_matrix()\n",
    "    \n",
    "        sim = DensityMatrixSim(circ, nm=nm)\n",
    "        sim.run(progress_bar=False)\n",
    "        dm = sim.get_density_matrix()\n",
    "        fid_samples.append(fidelity(dm, exact_dm))\n",
    "\n",
    "    avgs.append(np.mean(fid_samples))\n",
    "    vars.append(np.var(fid_samples))"
   ]
  },
  {
   "cell_type": "code",
   "execution_count": 17,
   "metadata": {},
   "outputs": [
    {
     "data": {
      "text/plain": [
       "Text(0.5, 1.0, 'random circuits with noise')"
      ]
     },
     "execution_count": 17,
     "metadata": {},
     "output_type": "execute_result"
    },
    {
     "data": {
      "image/png": "[encoded data removed]",
      "text/plain": [
       "<Figure size 640x480 with 1 Axes>"
      ]
     },
     "metadata": {},
     "output_type": "display_data"
    }
   ],
   "source": [
    "plt.errorbar(range(1,10), avgs, yerr=10*np.array(vars), fmt='o')\n",
    "plt.xlabel('depth')\n",
    "plt.ylabel('fidelity')\n",
    "plt.title(\"random circuits with noise\")"
   ]
  },
  {
   "cell_type": "code",
   "execution_count": 31,
   "metadata": {},
   "outputs": [],
   "source": [
    "tfi = TFI(4, 1, 0.75)\n",
    "times = np.arange(0.1, 5.1, 0.2)\n",
    "\n",
    "avgs = []\n",
    "vars = []\n",
    "for num_steps in range(2,12):\n",
    "    fid_samples = []\n",
    "    for time in times: \n",
    "        step_size = time/num_steps\n",
    "        circ = tfi.trotter_circ(step_size, num_steps, order=1)\n",
    "        #print(len(circ.gate_list))\n",
    "        exact_sim = DensityMatrixSim(circ, nm=None)\n",
    "        exact_sim.run(progress_bar=False)\n",
    "        exact_dm = exact_sim.get_density_matrix()\n",
    "\n",
    "        sim = DensityMatrixSim(circ, nm=nm)\n",
    "        sim.run(progress_bar=False)\n",
    "        dm = sim.get_density_matrix()\n",
    "\n",
    "        fid_samples.append(fidelity(dm, exact_dm))\n",
    "\n",
    "    avgs.append(np.mean(fid_samples))\n",
    "    vars.append(np.var(fid_samples))"
   ]
  },
  {
   "cell_type": "code",
   "execution_count": 33,
   "metadata": {},
   "outputs": [
    {
     "data": {
      "text/plain": [
       "Text(0.5, 1.0, 'TFI model with noise')"
      ]
     },
     "execution_count": 33,
     "metadata": {},
     "output_type": "execute_result"
    },
    {
     "data": {
      "image/png": "[encoded data removed]",
      "text/plain": [
       "<Figure size 640x480 with 1 Axes>"
      ]
     },
     "metadata": {},
     "output_type": "display_data"
    }
   ],
   "source": [
    "plt.errorbar(range(2,12), avgs, yerr=np.array(vars), fmt='o')\n",
    "plt.xlabel('num_steps')\n",
    "plt.ylabel('fidelity')\n",
    "plt.title(\"TFI model with noise\")"
   ]
  },
  {
   "cell_type": "markdown",
   "metadata": {},
   "source": [
    "# Qubit vs Qutrit thermal noise"
   ]
  },
  {
   "cell_type": "code",
   "execution_count": 35,
   "metadata": {},
   "outputs": [],
   "source": [
    "one_time = 40/1000 \n",
    "two_time = 500/1000\n",
    "t1 = 100\n",
    "t2 = 75\n",
    "\n",
    "nmb = QubitNoise(t1, t2, one_time, two_time)\n",
    "nmt = QutritNoise(t1, t2, one_time, two_time)"
   ]
  },
  {
   "cell_type": "code",
   "execution_count": 36,
   "metadata": {},
   "outputs": [],
   "source": [
    "n = 6\n",
    "qubit_fidelities_6 = []\n",
    "for t in np.arange(1, 100, 1):\n",
    "    gate_list = [H(i) for i in range(n)] + [ID(2, t, i) for i in range(n)]\n",
    "    circ = Circuit(gate_list, n)\n",
    "\n",
    "    exact_sim = DensityMatrixSim(circ, nm=None)\n",
    "    exact_sim.run(progress_bar=False)\n",
    "    exact_dm = exact_sim.get_density_matrix()\n",
    "\n",
    "    sim = DensityMatrixSim(circ, nm=nmb)\n",
    "    sim.run(progress_bar=False)\n",
    "    dm = sim.get_density_matrix()\n",
    "\n",
    "    qubit_fidelities_6.append(fidelity(dm, exact_dm)) "
   ]
  },
  {
   "cell_type": "code",
   "execution_count": 37,
   "metadata": {},
   "outputs": [],
   "source": [
    "n = 6\n",
    "qutrit_fidelities_6 = []\n",
    "for t in np.arange(1, 100, 1):\n",
    "    gate_list = [H01(i) for i in range(n)] + [ID(3, t, i) for i in range(n)]\n",
    "    circ = Circuit(gate_list, n)\n",
    "\n",
    "    exact_sim = DensityMatrixSim(circ, nm=None)\n",
    "    exact_sim.run(progress_bar=False)\n",
    "    exact_dm = exact_sim.get_density_matrix()\n",
    "\n",
    "    sim = DensityMatrixSim(circ, nm=nmt)\n",
    "    sim.run(progress_bar=False)\n",
    "    dm = sim.get_density_matrix()\n",
    "\n",
    "    qutrit_fidelities_6.append(fidelity(dm, exact_dm))  "
   ]
  },
  {
   "cell_type": "code",
   "execution_count": null,
   "metadata": {},
   "outputs": [],
   "source": []
  },
  {
   "cell_type": "code",
   "execution_count": 38,
   "metadata": {},
   "outputs": [
    {
     "data": {
      "image/png": "[encoded data removed]",
      "text/plain": [
       "<Figure size 640x480 with 1 Axes>"
      ]
     },
     "metadata": {},
     "output_type": "display_data"
    }
   ],
   "source": [
    "import matplotlib.pyplot as plt \n",
    "\n",
    "plt.plot(np.arange(1, 100, 1), qubit_fidelities_6, '--', color='b', label='6 qubits')\n",
    "plt.plot(np.arange(1, 100, 1), qutrit_fidelities_6, color='b', label='6 qutrits')\n",
    "plt.xlabel('idling time (microseconds)')\n",
    "plt.ylabel('fidelity')\n",
    "plt.title('fidelity vs idling time')\n",
    "plt.legend()\n",
    "plt.savefig('fidelity_vs_idling_time.pdf', bbox_inches='tight')"
   ]
  },
  {
   "cell_type": "markdown",
   "metadata": {},
   "source": [
    "# partial trace"
   ]
  },
  {
   "cell_type": "code",
   "execution_count": 40,
   "metadata": {},
   "outputs": [
    {
     "name": "stderr",
     "output_type": "stream",
     "text": [
      "100%|██████████| 4/4 [00:00<?, ?it/s]\n"
     ]
    },
    {
     "data": {
      "text/plain": [
       "True"
      ]
     },
     "execution_count": 40,
     "metadata": {},
     "output_type": "execute_result"
    }
   ],
   "source": [
    "gate_list = [H(0), CNOT([1,0], 4), CNOT([2,1], 4), CNOT([3,2], 4)]\n",
    "circ = Circuit(gate_list, 4) \n",
    "sim = StatevectorSim(circ) \n",
    "sim.run()\n",
    "sv = sim.get_statevector()\n",
    "rdm = rdm_from_sv(sv, [3], local_dim=2)\n",
    "np.allclose(vN_entropy(rdm), np.log(2))"
   ]
  },
  {
   "cell_type": "code",
   "execution_count": 2,
   "metadata": {},
   "outputs": [
    {
     "name": "stdout",
     "output_type": "stream",
     "text": [
      "True\n",
      "True\n",
      "True\n"
     ]
    }
   ],
   "source": [
    "dm = random_dm(4)\n",
    "\n",
    "dm_trial = partial_trace(dm, [1,0])\n",
    "dm_true = np.einsum('ijklmnkl->ijmn', dm.reshape(*[2]*8)).reshape(4,4)\n",
    "print(np.allclose(dm_trial, dm_true)) \n",
    "\n",
    "dm_trial = partial_trace(dm, [2,0], local_dim=2)\n",
    "dm_true = np.einsum('ijklmjol->ikmo', dm.reshape(*[2]*8)).reshape(4,4)\n",
    "print(np.allclose(dm_trial, dm_true))\n",
    "\n",
    "dm_trial = partial_trace(dm, [1,3], local_dim=2)\n",
    "dm_true = np.einsum('ijklinkp->jlnp', dm.reshape(*[2]*8)).reshape(4,4)\n",
    "print(np.allclose(dm_trial, dm_true))"
   ]
  },
  {
   "cell_type": "markdown",
   "metadata": {},
   "source": [
    "# less inefficient RDMs"
   ]
  },
  {
   "cell_type": "code",
   "execution_count": 3,
   "metadata": {},
   "outputs": [
    {
     "data": {
      "text/plain": [
       "True"
      ]
     },
     "execution_count": 3,
     "metadata": {},
     "output_type": "execute_result"
    }
   ],
   "source": [
    "sv = random_sv(4)\n",
    "\n",
    "sites = [1,3]\n",
    "dm = np.outer(sv, sv.conj())\n",
    "rdm = partial_trace(dm, sites)\n",
    "np.allclose(rdm, rdm_from_sv(sv, sites, local_dim=2))"
   ]
  },
  {
   "cell_type": "markdown",
   "metadata": {},
   "source": [
    "# Does dynamical decoupling help? "
   ]
  },
  {
   "cell_type": "code",
   "execution_count": null,
   "metadata": {},
   "outputs": [
    {
     "name": "stderr",
     "output_type": "stream",
     "text": [
      "100%|██████████| 20/20 [00:00<00:00, 4527.29it/s]\n",
      "100%|██████████| 20/20 [00:00<00:00, 482.99it/s]\n",
      "100%|██████████| 20/20 [00:00<00:00, 169.20it/s]"
     ]
    },
    {
     "name": "stdout",
     "output_type": "stream",
     "text": [
      "Fidelity without DD: 0.3485278606391442\n",
      "Fidelity with perfect DD: 0.40341841136137074\n"
     ]
    },
    {
     "name": "stderr",
     "output_type": "stream",
     "text": [
      "\n"
     ]
    }
   ],
   "source": [
    "n = 2\n",
    "gate_list = [H(0)] * 20 + [H(1)]\n",
    "circ = Circuit(gate_list, n)\n",
    "\n",
    "t1 = 100\n",
    "t2 = 75\n",
    "one_qubit_time = 5\n",
    "two_qubit_time = 50\n",
    "\n",
    "nm1 = QubitNoise(t1, t2, one_qubit_time, two_qubit_time, coupling=1.0)\n",
    "nm2 = QubitNoise(t1, t2, one_qubit_time, two_qubit_time, coupling=0.0)\n",
    "circ1 = circ.build(nm=nm1)\n",
    "circ2 = circ.build(nm=nm2)\n",
    "\n",
    "sim0 = DensityMatrixSim(circ, nm=None)\n",
    "sim1 = DensityMatrixSim(circ1, nm=nm1)\n",
    "sim2 = DensityMatrixSim(circ2, nm=nm2)\n",
    " \n",
    "sim0.run()\n",
    "dm0 = sim0.get_density_matrix()\n",
    "\n",
    "sim1.run()\n",
    "dm1 = sim1.get_density_matrix()\n",
    "\n",
    "sim2.run()\n",
    "dm2 = sim2.get_density_matrix()\n",
    "\n",
    "print('Fidelity without DD:', fidelity(dm1, dm0))\n",
    "print('Fidelity with perfect DD:', fidelity(dm2, dm0))"
   ]
  },
  {
   "cell_type": "code",
   "execution_count": null,
   "metadata": {},
   "outputs": [],
   "source": []
  }
 ],
 "metadata": {
  "kernelspec": {
   "display_name": "qaravan",
   "language": "python",
   "name": "python3"
  },
  "language_info": {
   "codemirror_mode": {
    "name": "ipython",
    "version": 3
   },
   "file_extension": ".py",
   "mimetype": "text/x-python",
   "name": "python",
   "nbconvert_exporter": "python",
   "pygments_lexer": "ipython3",
   "version": "3.11.0"
  }
 },
 "nbformat": 4,
 "nbformat_minor": 2
}
