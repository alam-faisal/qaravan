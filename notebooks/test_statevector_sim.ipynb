{
 "cells": [
  {
   "cell_type": "code",
   "execution_count": 1,
   "metadata": {},
   "outputs": [],
   "source": [
    "from qaravan.tensorQ import *\n",
    "from qaravan.core import *"
   ]
  },
  {
   "cell_type": "code",
   "execution_count": 2,
   "metadata": {},
   "outputs": [
    {
     "name": "stdout",
     "output_type": "stream",
     "text": [
      "H gate on site(s) [0] \n",
      "bottom heavy CNOT2 gate on site(s) [0, 1] \n",
      "bottom heavy CNOT2 gate on site(s) [1, 2]\n"
     ]
    },
    {
     "name": "stderr",
     "output_type": "stream",
     "text": [
      "100%|██████████| 3/3 [00:00<00:00, 1009.14it/s]"
     ]
    },
    {
     "name": "stdout",
     "output_type": "stream",
     "text": [
      "0.7071|000⟩ + 0.7071|111⟩\n"
     ]
    },
    {
     "name": "stderr",
     "output_type": "stream",
     "text": [
      "\n"
     ]
    }
   ],
   "source": [
    "# testing if we can prepare GHZ state\n",
    "gate_list = [H(0), CNOT([1,0], 3), CNOT([2,1], 3)]\n",
    "circ = Circuit(gate_list, 3)\n",
    "print(circ)\n",
    "\n",
    "sv = StatevectorSim(circ)\n",
    "final_state = sv.run()\n",
    "print(sv)"
   ]
  },
  {
   "cell_type": "code",
   "execution_count": 3,
   "metadata": {},
   "outputs": [
    {
     "data": {
      "text/plain": [
       "array(0.)"
      ]
     },
     "execution_count": 3,
     "metadata": {},
     "output_type": "execute_result"
    }
   ],
   "source": [
    "# testing local expectations\n",
    "local_ops = [pauli_Z, pauli_Z, pauli_Z]\n",
    "sv.local_expectation(local_ops) # should be zero"
   ]
  },
  {
   "cell_type": "code",
   "execution_count": 4,
   "metadata": {},
   "outputs": [
    {
     "data": {
      "text/plain": [
       "array(1.)"
      ]
     },
     "execution_count": 4,
     "metadata": {},
     "output_type": "execute_result"
    }
   ],
   "source": [
    "# testing local expectations again\n",
    "local_ops = [pauli_X, pauli_X, pauli_X]\n",
    "sv.local_expectation(local_ops) # should be 1"
   ]
  },
  {
   "cell_type": "code",
   "execution_count": 5,
   "metadata": {},
   "outputs": [
    {
     "name": "stdout",
     "output_type": "stream",
     "text": [
      "True\n",
      "True\n",
      "True\n",
      "True\n"
     ]
    }
   ],
   "source": [
    "# testing environments \n",
    "n = 4\n",
    "sv = random_sv(n)\n",
    "\n",
    "gate_list = [H(0), CNOT([1,0], n), CNOT([2,1], n), CNOT([3,2], n)]\n",
    "circ = Circuit(gate_list, n)\n",
    "sim = StatevectorSim(circ)\n",
    "final_state = sim.run(progress_bar=False).reshape(2**n)\n",
    "overlap_a = sv.conj().T @ final_state\n",
    "\n",
    "for gate_idx in range(len(circ)):\n",
    "    env, mat = sv_environment(circ, sv, gate_idx)\n",
    "    overlap_b = np.trace(env @ mat)\n",
    "    print(np.allclose(overlap_a, overlap_b))"
   ]
  },
  {
   "cell_type": "code",
   "execution_count": 6,
   "metadata": {},
   "outputs": [
    {
     "name": "stdout",
     "output_type": "stream",
     "text": [
      "0.5263433699057383\n",
      "0.6227053458824594\n",
      "0.6885862683542937\n",
      "0.8487274454688097\n",
      "0.9053664520511704\n",
      "0.9710027548831262\n",
      "0.9745057346342603\n",
      "0.9879810192185209\n",
      "0.9890343651865692\n",
      "0.9943312392744269\n",
      "0.995371645372942\n",
      "0.996666134481565\n",
      "0.9971519846609429\n",
      "0.9976104298807507\n",
      "0.9982942286683891\n",
      "0.9988311282812801\n",
      "0.9989831121551052\n",
      "0.9992202067805432\n",
      "0.9993043425505597\n",
      "0.9993647602684101\n",
      "0.999574250917615\n",
      "0.9997006686795404\n",
      "0.9997416620178308\n",
      "0.9998144862581198\n",
      "0.9998311112981414\n",
      "0.999851842818924\n",
      "0.999898164296225\n",
      "0.9999313245189513\n",
      "0.9999411045781367\n",
      "0.9999586974555168\n",
      "0.9999625310134098\n",
      "0.9999676802738873\n",
      "0.9999777200370055\n",
      "0.9999852873510082\n",
      "0.9999874160794223\n",
      "0.9999912897121837\n",
      "0.999992089192954\n",
      "0.9999932278507021\n",
      "0.9999953268514026\n",
      "0.9999969532217267\n",
      "0.9999973965380642\n",
      "0.9999982069369935\n",
      "0.9999983712863922\n",
      "0.9999986092811006\n",
      "0.9999990412489299\n",
      "0.9999993785235035\n",
      "0.9999994691651298\n",
      "0.9999996352739129\n",
      "0.9999996686297112\n",
      "0.9999997173595536\n",
      "0.9999998052550989\n",
      "0.9999998741071132\n",
      "0.999999892486755\n",
      "0.9999999262088679\n",
      "0.9999999329520026\n",
      "0.9999999428355291\n",
      "0.999999960625005\n",
      "0.999999974576639\n",
      "0.999999978290075\n",
      "0.9999999851069269\n"
     ]
    },
    {
     "data": {
      "text/plain": [
       "<qaravan.core.circuits.Circuit at 0x2bcc3542d90>"
      ]
     },
     "execution_count": 6,
     "metadata": {},
     "output_type": "execute_result"
    }
   ],
   "source": [
    "# testing environment based state prep\n",
    "skeleton = [[0,1],[2,3],[1,2],[0,3],[0,2],[1,3]]\n",
    "target_sv = random_sv(4)\n",
    "\n",
    "environment_state_prep(skeleton, target_sv)"
   ]
  },
  {
   "cell_type": "code",
   "execution_count": null,
   "metadata": {},
   "outputs": [],
   "source": []
  }
 ],
 "metadata": {
  "kernelspec": {
   "display_name": "qaravan",
   "language": "python",
   "name": "python3"
  },
  "language_info": {
   "codemirror_mode": {
    "name": "ipython",
    "version": 3
   },
   "file_extension": ".py",
   "mimetype": "text/x-python",
   "name": "python",
   "nbconvert_exporter": "python",
   "pygments_lexer": "ipython3",
   "version": "3.11.0"
  }
 },
 "nbformat": 4,
 "nbformat_minor": 2
}
