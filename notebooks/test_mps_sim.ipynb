{
 "cells": [
  {
   "cell_type": "code",
   "execution_count": 1,
   "metadata": {},
   "outputs": [],
   "source": [
    "from qaravan.core import * \n",
    "from qaravan.tensorQ import *"
   ]
  },
  {
   "cell_type": "code",
   "execution_count": 9,
   "metadata": {},
   "outputs": [
    {
     "name": "stderr",
     "output_type": "stream",
     "text": [
      "100%|██████████| 3/3 [00:00<00:00, 991.40it/s]\n"
     ]
    },
    {
     "data": {
      "text/plain": [
       "True"
      ]
     },
     "execution_count": 9,
     "metadata": {},
     "output_type": "execute_result"
    }
   ],
   "source": [
    "gate_list = [H(0), CNOT([1,0], 3), CNOT([2,1], 3)]\n",
    "circ = Circuit(gate_list, 3)\n",
    "mps = MPSSim(circ)\n",
    "final_mps = mps.run()\n",
    " \n",
    "# compare to 3 qubit GHZ statevector \n",
    "sv = final_mps.to_vector()\n",
    "sv2 = np.zeros(8, dtype=complex)\n",
    "sv2[0] = 1/np.sqrt(2)\n",
    "sv2[7] = 1/np.sqrt(2)\n",
    "# now compare the two\n",
    "np.allclose(sv, sv2) # should be True"
   ]
  },
  {
   "cell_type": "code",
   "execution_count": null,
   "metadata": {},
   "outputs": [],
   "source": []
  }
 ],
 "metadata": {
  "kernelspec": {
   "display_name": "qaravan",
   "language": "python",
   "name": "python3"
  },
  "language_info": {
   "codemirror_mode": {
    "name": "ipython",
    "version": 3
   },
   "file_extension": ".py",
   "mimetype": "text/x-python",
   "name": "python",
   "nbconvert_exporter": "python",
   "pygments_lexer": "ipython3",
   "version": "3.11.0"
  }
 },
 "nbformat": 4,
 "nbformat_minor": 2
}
