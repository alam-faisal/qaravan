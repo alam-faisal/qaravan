{
 "cells": [
  {
   "cell_type": "code",
   "execution_count": 1,
   "metadata": {},
   "outputs": [],
   "source": [
    "from qaravan.core import *\n",
    "from qaravan.tensorQ import *"
   ]
  },
  {
   "cell_type": "code",
   "execution_count": 2,
   "metadata": {},
   "outputs": [
    {
     "data": {
      "text/plain": [
       "True"
      ]
     },
     "execution_count": 2,
     "metadata": {},
     "output_type": "execute_result"
    }
   ],
   "source": [
    "# contract_sites produces the correct shape for MPS sites\n",
    "sites = [np.random.rand(4,3,2)] + [np.random.rand(3,3,2)] * 1 + [np.random.rand(3,5,2)]\n",
    "c_site = contract_sites(sites) \n",
    "c_site.shape == (4, 5, 2**3)"
   ]
  },
  {
   "cell_type": "code",
   "execution_count": 3,
   "metadata": {},
   "outputs": [
    {
     "data": {
      "text/plain": [
       "True"
      ]
     },
     "execution_count": 3,
     "metadata": {},
     "output_type": "execute_result"
    }
   ],
   "source": [
    "# contract_sites produces the correct shape for MPDO sites\n",
    "sites = [np.random.rand(4,3,2,2)] + [np.random.rand(3,3,2,2)] * 1 + [np.random.rand(3,5,2,2)]\n",
    "c_site = contract_sites(sites)\n",
    "c_site.shape == (4, 5, 2**6)"
   ]
  },
  {
   "cell_type": "code",
   "execution_count": 4,
   "metadata": {},
   "outputs": [
    {
     "name": "stdout",
     "output_type": "stream",
     "text": [
      "True\n"
     ]
    },
    {
     "data": {
      "text/plain": [
       "[True, True, True]"
      ]
     },
     "execution_count": 4,
     "metadata": {},
     "output_type": "execute_result"
    }
   ],
   "source": [
    "# decimate produces the correct shape and correct tensors for MPS sites\n",
    "\n",
    "sites = [np.random.rand(4,3,2)] + [np.random.rand(3,3,2)] * 1 + [np.random.rand(3,5,2)]\n",
    "c_site = contract_sites(sites)\n",
    "dec_sites = decimate(c_site, 2)\n",
    "c_site2 = contract_sites(dec_sites)\n",
    "\n",
    "print(np.allclose(c_site, c_site2))\n",
    "[s.shape == d.shape for s, d in zip(sites, dec_sites)]"
   ]
  },
  {
   "cell_type": "code",
   "execution_count": 5,
   "metadata": {},
   "outputs": [
    {
     "name": "stdout",
     "output_type": "stream",
     "text": [
      "True\n"
     ]
    },
    {
     "data": {
      "text/plain": [
       "[True, True, True]"
      ]
     },
     "execution_count": 5,
     "metadata": {},
     "output_type": "execute_result"
    }
   ],
   "source": [
    "# decimate produces the correct shape and correct tensors for MPDO sites\n",
    "sites = [np.random.rand(4,3,2,2)] + [np.random.rand(3,3,2,2)] * 1 + [np.random.rand(3,5,2,2)]\n",
    "c_site = contract_sites(sites)\n",
    "dec_sites = decimate(c_site, 2*2) # super local_dim is square of local_dim\n",
    "\n",
    "dec_sites = [s.reshape(s.shape[0], s.shape[1], 2, 2) for s in dec_sites]\n",
    "c_site2 = contract_sites(dec_sites)\n",
    "\n",
    "print(np.allclose(c_site, c_site2))\n",
    "[s.shape == d.shape for s, d in zip(sites, dec_sites)]"
   ]
  },
  {
   "cell_type": "code",
   "execution_count": 10,
   "metadata": {},
   "outputs": [
    {
     "data": {
      "text/plain": [
       "np.float64(1039.2109991354164)"
      ]
     },
     "execution_count": 10,
     "metadata": {},
     "output_type": "execute_result"
    }
   ],
   "source": [
    "# test canonize()\n",
    "sites = [np.random.rand(1,4,2)] + [np.random.rand(4,4,2)] * 3 + [np.random.rand(4,1,2)]\n",
    "mps = MPS(sites)\n",
    "mps.norm()"
   ]
  },
  {
   "cell_type": "code",
   "execution_count": 14,
   "metadata": {},
   "outputs": [
    {
     "ename": "IndexError",
     "evalue": "list index out of range",
     "output_type": "error",
     "traceback": [
      "\u001b[1;31m---------------------------------------------------------------------------\u001b[0m",
      "\u001b[1;31mIndexError\u001b[0m                                Traceback (most recent call last)",
      "Cell \u001b[1;32mIn[14], line 1\u001b[0m\n\u001b[1;32m----> 1\u001b[0m \u001b[43mmps\u001b[49m\u001b[38;5;241;43m.\u001b[39;49m\u001b[43mcanonize\u001b[49m\u001b[43m(\u001b[49m\u001b[38;5;241;43m5\u001b[39;49m\u001b[43m)\u001b[49m\n",
      "File \u001b[1;32mc:\\users\\alamf\\1jupyter\\current_projects\\qaravan\\src\\qaravan\\tensorQ\\tn.py:201\u001b[0m, in \u001b[0;36mMPS.canonize\u001b[1;34m(self, center)\u001b[0m\n\u001b[0;32m    198\u001b[0m     sites[i] \u001b[38;5;241m=\u001b[39m left_tensor\n\u001b[0;32m    199\u001b[0m     sites[i\u001b[38;5;241m+\u001b[39m\u001b[38;5;241m1\u001b[39m] \u001b[38;5;241m=\u001b[39m ncon((right_tensor, sites[i\u001b[38;5;241m+\u001b[39m\u001b[38;5;241m1\u001b[39m]), ([\u001b[38;5;241m-\u001b[39m\u001b[38;5;241m1\u001b[39m,\u001b[38;5;241m1\u001b[39m], [\u001b[38;5;241m1\u001b[39m,\u001b[38;5;241m-\u001b[39m\u001b[38;5;241m2\u001b[39m,\u001b[38;5;241m-\u001b[39m\u001b[38;5;241m3\u001b[39m]))\n\u001b[1;32m--> 201\u001b[0m left_tensor, right_tensor \u001b[38;5;241m=\u001b[39m site_svd(\u001b[43msites\u001b[49m\u001b[43m[\u001b[49m\u001b[43mcenter\u001b[49m\u001b[43m]\u001b[49m, \u001b[38;5;124m'\u001b[39m\u001b[38;5;124mleft\u001b[39m\u001b[38;5;124m'\u001b[39m, \u001b[38;5;28;01mNone\u001b[39;00m, \u001b[38;5;28;01mNone\u001b[39;00m, \u001b[38;5;28;01mFalse\u001b[39;00m)\n\u001b[0;32m    202\u001b[0m sites[center] \u001b[38;5;241m=\u001b[39m left_tensor\n\u001b[0;32m    204\u001b[0m \u001b[38;5;28;01mif\u001b[39;00m center \u001b[38;5;241m+\u001b[39m \u001b[38;5;241m1\u001b[39m \u001b[38;5;241m<\u001b[39m\u001b[38;5;241m=\u001b[39m \u001b[38;5;28mself\u001b[39m\u001b[38;5;241m.\u001b[39mnum_sites \u001b[38;5;241m-\u001b[39m \u001b[38;5;241m1\u001b[39m:\n",
      "\u001b[1;31mIndexError\u001b[0m: list index out of range"
     ]
    }
   ],
   "source": [
    "mps.canonize(5)"
   ]
  },
  {
   "cell_type": "code",
   "execution_count": null,
   "metadata": {},
   "outputs": [
    {
     "data": {
      "text/plain": [
       "array([[[-0.54660201, -0.44858249]],\n",
       "\n",
       "       [[-0.44858249,  0.54660201]]])"
      ]
     },
     "execution_count": 13,
     "metadata": {},
     "output_type": "execute_result"
    }
   ],
   "source": [
    "mps.sites[5] "
   ]
  },
  {
   "cell_type": "code",
   "execution_count": 12,
   "metadata": {},
   "outputs": [
    {
     "data": {
      "text/plain": [
       "np.float64(519.6054995677096)"
      ]
     },
     "execution_count": 12,
     "metadata": {},
     "output_type": "execute_result"
    }
   ],
   "source": [
    "mps.norm() "
   ]
  },
  {
   "cell_type": "code",
   "execution_count": 9,
   "metadata": {},
   "outputs": [
    {
     "data": {
      "text/plain": [
       "np.float64(0.9999999999999976)"
      ]
     },
     "execution_count": 9,
     "metadata": {},
     "output_type": "execute_result"
    }
   ],
   "source": [
    "mps.canonize(2)\n",
    "mps.norm() "
   ]
  },
  {
   "cell_type": "code",
   "execution_count": 10,
   "metadata": {},
   "outputs": [
    {
     "name": "stdout",
     "output_type": "stream",
     "text": [
      "0\n",
      "left canonical\n",
      "1\n",
      "left canonical\n",
      "2\n",
      "left canonical\n",
      "3\n",
      "4\n",
      "right canonical\n"
     ]
    }
   ],
   "source": [
    "for idx, site in enumerate(mps.sites):\n",
    "    print(idx)\n",
    "    c = sum([site[:,:,i].conj().T @ site[:,:,i] for i in range(mps.local_dim)])\n",
    "    if np.allclose(c, np.eye(c.shape[0])): \n",
    "        print(\"left canonical\")\n",
    "\n",
    "    d = sum([site[:,:,i] @ site[:,:,i].conj().T for i in range(mps.local_dim)])\n",
    "    if np.allclose(d, np.eye(d.shape[0])):\n",
    "        print(\"right canonical\")"
   ]
  },
  {
   "cell_type": "code",
   "execution_count": 13,
   "metadata": {},
   "outputs": [],
   "source": [
    "left,right,s = site_svd(mps.sites[3], 'left', return_sv=True)"
   ]
  },
  {
   "cell_type": "code",
   "execution_count": 14,
   "metadata": {},
   "outputs": [
    {
     "data": {
      "text/plain": [
       "array([0.99935156, 0.03600646])"
      ]
     },
     "execution_count": 14,
     "metadata": {},
     "output_type": "execute_result"
    }
   ],
   "source": [
    "s "
   ]
  },
  {
   "cell_type": "code",
   "execution_count": null,
   "metadata": {},
   "outputs": [],
   "source": []
  }
 ],
 "metadata": {
  "kernelspec": {
   "display_name": "qaravan",
   "language": "python",
   "name": "python3"
  },
  "language_info": {
   "codemirror_mode": {
    "name": "ipython",
    "version": 3
   },
   "file_extension": ".py",
   "mimetype": "text/x-python",
   "name": "python",
   "nbconvert_exporter": "python",
   "pygments_lexer": "ipython3",
   "version": "3.11.0"
  }
 },
 "nbformat": 4,
 "nbformat_minor": 2
}
